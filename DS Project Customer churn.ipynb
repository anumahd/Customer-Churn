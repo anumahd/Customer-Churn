{
 "cells": [
  {
   "cell_type": "code",
   "execution_count": null,
   "id": "fc49f6ad",
   "metadata": {},
   "outputs": [],
   "source": [
    "This is a real life problem but using dummy data from MS server SQL\n",
    "I try to show how the process is most times with data science. Data isnt always given in an excell format but you have to \n",
    "go digging in SQL and tables you may not need to calculate for features you need but are not available\n",
    "eg, using birthdays to calculate age, or date a customer first used a service to calculate Tenure\n",
    "\n",
    "For this project, I try to briefly predict customer churn for a phantom company using MS adventure works data.\n",
    "Enjoy!"
   ]
  },
  {
   "cell_type": "code",
   "execution_count": 172,
   "id": "70878acd",
   "metadata": {},
   "outputs": [],
   "source": [
    "import pyodbc # for commecting to sql\n",
    "import pandas as pd\n",
    "import numpy as np\n",
    "from datetime import datetime, timedelta\n",
    "from datetime import date\n",
    "from matplotlib import dates as dates\n",
    "import datetime as dt\n",
    "import pyodbc\n",
    "import pandas as pd\n",
    "import numpy as np\n",
    "from matplotlib import pyplot as plt\n",
    "from matplotlib import rcParams\n",
    "from plotly.offline import iplot\n",
    "import plotly.graph_objects as go\n",
    "import plotly.figure_factory as ff\n",
    "from plotly.subplots import make_subplots\n",
    "import seaborn as sns\n",
    "import random\n"
   ]
  },
  {
   "cell_type": "code",
   "execution_count": 2,
   "id": "59c0aff7",
   "metadata": {},
   "outputs": [],
   "source": [
    "#Connecting yo SQL to get the relevant data\n",
    "conn = pyodbc.connect('Driver={SQL Server};'\n",
    "'Server=DESKTOP-MB976LQ;'\n",
    "'Database=AdventureWorksDW2017;'\n",
    "'Trusted_Connection=yes;')\n",
    "sql_for_df = \"select CustomerKey,BirthDate,DateFirstPurchase,MaritalStatus,Gender, YearlyIncome,TotalChildren,NumberChildrenAtHome,EnglishEducation,EnglishOccupation,HouseOwnerFlag,NumberCarsOwned from dbo.DimCustomer\"\n",
    "dimCust = pd.read_sql(sql_for_df , conn)\n",
    "conn.close()"
   ]
  },
  {
   "cell_type": "code",
   "execution_count": 3,
   "id": "0c6c588a",
   "metadata": {},
   "outputs": [
    {
     "data": {
      "text/plain": [
       "CustomerKey               int64\n",
       "BirthDate                object\n",
       "DateFirstPurchase        object\n",
       "MaritalStatus            object\n",
       "Gender                   object\n",
       "YearlyIncome            float64\n",
       "TotalChildren             int64\n",
       "NumberChildrenAtHome      int64\n",
       "EnglishEducation         object\n",
       "EnglishOccupation        object\n",
       "HouseOwnerFlag           object\n",
       "NumberCarsOwned           int64\n",
       "dtype: object"
      ]
     },
     "execution_count": 3,
     "metadata": {},
     "output_type": "execute_result"
    }
   ],
   "source": [
    "#get data types\n",
    "dimCust.dtypes"
   ]
  },
  {
   "cell_type": "code",
   "execution_count": 4,
   "id": "dc5541db",
   "metadata": {},
   "outputs": [
    {
     "data": {
      "text/html": [
       "<div>\n",
       "<style scoped>\n",
       "    .dataframe tbody tr th:only-of-type {\n",
       "        vertical-align: middle;\n",
       "    }\n",
       "\n",
       "    .dataframe tbody tr th {\n",
       "        vertical-align: top;\n",
       "    }\n",
       "\n",
       "    .dataframe thead th {\n",
       "        text-align: right;\n",
       "    }\n",
       "</style>\n",
       "<table border=\"1\" class=\"dataframe\">\n",
       "  <thead>\n",
       "    <tr style=\"text-align: right;\">\n",
       "      <th></th>\n",
       "      <th>CustomerKey</th>\n",
       "      <th>BirthDate</th>\n",
       "      <th>DateFirstPurchase</th>\n",
       "      <th>MaritalStatus</th>\n",
       "      <th>Gender</th>\n",
       "      <th>YearlyIncome</th>\n",
       "      <th>TotalChildren</th>\n",
       "      <th>NumberChildrenAtHome</th>\n",
       "      <th>EnglishEducation</th>\n",
       "      <th>EnglishOccupation</th>\n",
       "      <th>HouseOwnerFlag</th>\n",
       "      <th>NumberCarsOwned</th>\n",
       "    </tr>\n",
       "  </thead>\n",
       "  <tbody>\n",
       "    <tr>\n",
       "      <th>0</th>\n",
       "      <td>11000</td>\n",
       "      <td>1971-10-06</td>\n",
       "      <td>2011-01-19</td>\n",
       "      <td>M</td>\n",
       "      <td>M</td>\n",
       "      <td>90000.0</td>\n",
       "      <td>2</td>\n",
       "      <td>0</td>\n",
       "      <td>Bachelors</td>\n",
       "      <td>Professional</td>\n",
       "      <td>1</td>\n",
       "      <td>0</td>\n",
       "    </tr>\n",
       "    <tr>\n",
       "      <th>1</th>\n",
       "      <td>11001</td>\n",
       "      <td>1976-05-10</td>\n",
       "      <td>2011-01-15</td>\n",
       "      <td>S</td>\n",
       "      <td>M</td>\n",
       "      <td>60000.0</td>\n",
       "      <td>3</td>\n",
       "      <td>3</td>\n",
       "      <td>Bachelors</td>\n",
       "      <td>Professional</td>\n",
       "      <td>0</td>\n",
       "      <td>1</td>\n",
       "    </tr>\n",
       "    <tr>\n",
       "      <th>2</th>\n",
       "      <td>11002</td>\n",
       "      <td>1971-02-09</td>\n",
       "      <td>2011-01-07</td>\n",
       "      <td>M</td>\n",
       "      <td>M</td>\n",
       "      <td>60000.0</td>\n",
       "      <td>3</td>\n",
       "      <td>3</td>\n",
       "      <td>Bachelors</td>\n",
       "      <td>Professional</td>\n",
       "      <td>1</td>\n",
       "      <td>1</td>\n",
       "    </tr>\n",
       "    <tr>\n",
       "      <th>3</th>\n",
       "      <td>11003</td>\n",
       "      <td>1973-08-14</td>\n",
       "      <td>2010-12-29</td>\n",
       "      <td>S</td>\n",
       "      <td>F</td>\n",
       "      <td>70000.0</td>\n",
       "      <td>0</td>\n",
       "      <td>0</td>\n",
       "      <td>Bachelors</td>\n",
       "      <td>Professional</td>\n",
       "      <td>0</td>\n",
       "      <td>1</td>\n",
       "    </tr>\n",
       "    <tr>\n",
       "      <th>4</th>\n",
       "      <td>11004</td>\n",
       "      <td>1979-08-05</td>\n",
       "      <td>2011-01-23</td>\n",
       "      <td>S</td>\n",
       "      <td>F</td>\n",
       "      <td>80000.0</td>\n",
       "      <td>5</td>\n",
       "      <td>5</td>\n",
       "      <td>Bachelors</td>\n",
       "      <td>Professional</td>\n",
       "      <td>1</td>\n",
       "      <td>4</td>\n",
       "    </tr>\n",
       "  </tbody>\n",
       "</table>\n",
       "</div>"
      ],
      "text/plain": [
       "   CustomerKey   BirthDate DateFirstPurchase MaritalStatus Gender  \\\n",
       "0        11000  1971-10-06        2011-01-19             M      M   \n",
       "1        11001  1976-05-10        2011-01-15             S      M   \n",
       "2        11002  1971-02-09        2011-01-07             M      M   \n",
       "3        11003  1973-08-14        2010-12-29             S      F   \n",
       "4        11004  1979-08-05        2011-01-23             S      F   \n",
       "\n",
       "   YearlyIncome  TotalChildren  NumberChildrenAtHome EnglishEducation  \\\n",
       "0       90000.0              2                     0        Bachelors   \n",
       "1       60000.0              3                     3        Bachelors   \n",
       "2       60000.0              3                     3        Bachelors   \n",
       "3       70000.0              0                     0        Bachelors   \n",
       "4       80000.0              5                     5        Bachelors   \n",
       "\n",
       "  EnglishOccupation HouseOwnerFlag  NumberCarsOwned  \n",
       "0      Professional              1                0  \n",
       "1      Professional              0                1  \n",
       "2      Professional              1                1  \n",
       "3      Professional              0                1  \n",
       "4      Professional              1                4  "
      ]
     },
     "execution_count": 4,
     "metadata": {},
     "output_type": "execute_result"
    }
   ],
   "source": [
    "dimCust.head()"
   ]
  },
  {
   "cell_type": "code",
   "execution_count": 5,
   "id": "b803203d",
   "metadata": {},
   "outputs": [
    {
     "data": {
      "text/plain": [
       "(18484, 12)"
      ]
     },
     "execution_count": 5,
     "metadata": {},
     "output_type": "execute_result"
    }
   ],
   "source": [
    "dimCust.shape"
   ]
  },
  {
   "cell_type": "code",
   "execution_count": 6,
   "id": "9dacdf2f",
   "metadata": {},
   "outputs": [],
   "source": [
    "#change birthday to date-time-format\n",
    "dimCust['BirthDate'] = pd.to_datetime(dimCust['BirthDate'])\n",
    "dimCust['DateFirstPurchase'] = pd.to_datetime(dimCust['DateFirstPurchase'])"
   ]
  },
  {
   "cell_type": "code",
   "execution_count": 7,
   "id": "e2ef0b42",
   "metadata": {},
   "outputs": [],
   "source": [
    "#setting an end date for churn and age at the time of the data. this will be the end date of the data\n",
    "#since its not a live data\n",
    "endDate=dt.datetime(2014,1,20)"
   ]
  },
  {
   "cell_type": "code",
   "execution_count": 8,
   "id": "8182b44b",
   "metadata": {},
   "outputs": [],
   "source": [
    "#add the end date to the table\n",
    "dimCust[\"endDate\"]=endDate"
   ]
  },
  {
   "cell_type": "code",
   "execution_count": 9,
   "id": "749d99fd",
   "metadata": {},
   "outputs": [
    {
     "data": {
      "text/html": [
       "<div>\n",
       "<style scoped>\n",
       "    .dataframe tbody tr th:only-of-type {\n",
       "        vertical-align: middle;\n",
       "    }\n",
       "\n",
       "    .dataframe tbody tr th {\n",
       "        vertical-align: top;\n",
       "    }\n",
       "\n",
       "    .dataframe thead th {\n",
       "        text-align: right;\n",
       "    }\n",
       "</style>\n",
       "<table border=\"1\" class=\"dataframe\">\n",
       "  <thead>\n",
       "    <tr style=\"text-align: right;\">\n",
       "      <th></th>\n",
       "      <th>CustomerKey</th>\n",
       "      <th>BirthDate</th>\n",
       "      <th>DateFirstPurchase</th>\n",
       "      <th>MaritalStatus</th>\n",
       "      <th>Gender</th>\n",
       "      <th>YearlyIncome</th>\n",
       "      <th>TotalChildren</th>\n",
       "      <th>NumberChildrenAtHome</th>\n",
       "      <th>EnglishEducation</th>\n",
       "      <th>EnglishOccupation</th>\n",
       "      <th>HouseOwnerFlag</th>\n",
       "      <th>NumberCarsOwned</th>\n",
       "      <th>endDate</th>\n",
       "    </tr>\n",
       "  </thead>\n",
       "  <tbody>\n",
       "    <tr>\n",
       "      <th>0</th>\n",
       "      <td>11000</td>\n",
       "      <td>1971-10-06</td>\n",
       "      <td>2011-01-19</td>\n",
       "      <td>M</td>\n",
       "      <td>M</td>\n",
       "      <td>90000.0</td>\n",
       "      <td>2</td>\n",
       "      <td>0</td>\n",
       "      <td>Bachelors</td>\n",
       "      <td>Professional</td>\n",
       "      <td>1</td>\n",
       "      <td>0</td>\n",
       "      <td>2014-01-20</td>\n",
       "    </tr>\n",
       "    <tr>\n",
       "      <th>1</th>\n",
       "      <td>11001</td>\n",
       "      <td>1976-05-10</td>\n",
       "      <td>2011-01-15</td>\n",
       "      <td>S</td>\n",
       "      <td>M</td>\n",
       "      <td>60000.0</td>\n",
       "      <td>3</td>\n",
       "      <td>3</td>\n",
       "      <td>Bachelors</td>\n",
       "      <td>Professional</td>\n",
       "      <td>0</td>\n",
       "      <td>1</td>\n",
       "      <td>2014-01-20</td>\n",
       "    </tr>\n",
       "    <tr>\n",
       "      <th>2</th>\n",
       "      <td>11002</td>\n",
       "      <td>1971-02-09</td>\n",
       "      <td>2011-01-07</td>\n",
       "      <td>M</td>\n",
       "      <td>M</td>\n",
       "      <td>60000.0</td>\n",
       "      <td>3</td>\n",
       "      <td>3</td>\n",
       "      <td>Bachelors</td>\n",
       "      <td>Professional</td>\n",
       "      <td>1</td>\n",
       "      <td>1</td>\n",
       "      <td>2014-01-20</td>\n",
       "    </tr>\n",
       "    <tr>\n",
       "      <th>3</th>\n",
       "      <td>11003</td>\n",
       "      <td>1973-08-14</td>\n",
       "      <td>2010-12-29</td>\n",
       "      <td>S</td>\n",
       "      <td>F</td>\n",
       "      <td>70000.0</td>\n",
       "      <td>0</td>\n",
       "      <td>0</td>\n",
       "      <td>Bachelors</td>\n",
       "      <td>Professional</td>\n",
       "      <td>0</td>\n",
       "      <td>1</td>\n",
       "      <td>2014-01-20</td>\n",
       "    </tr>\n",
       "    <tr>\n",
       "      <th>4</th>\n",
       "      <td>11004</td>\n",
       "      <td>1979-08-05</td>\n",
       "      <td>2011-01-23</td>\n",
       "      <td>S</td>\n",
       "      <td>F</td>\n",
       "      <td>80000.0</td>\n",
       "      <td>5</td>\n",
       "      <td>5</td>\n",
       "      <td>Bachelors</td>\n",
       "      <td>Professional</td>\n",
       "      <td>1</td>\n",
       "      <td>4</td>\n",
       "      <td>2014-01-20</td>\n",
       "    </tr>\n",
       "  </tbody>\n",
       "</table>\n",
       "</div>"
      ],
      "text/plain": [
       "   CustomerKey  BirthDate DateFirstPurchase MaritalStatus Gender  \\\n",
       "0        11000 1971-10-06        2011-01-19             M      M   \n",
       "1        11001 1976-05-10        2011-01-15             S      M   \n",
       "2        11002 1971-02-09        2011-01-07             M      M   \n",
       "3        11003 1973-08-14        2010-12-29             S      F   \n",
       "4        11004 1979-08-05        2011-01-23             S      F   \n",
       "\n",
       "   YearlyIncome  TotalChildren  NumberChildrenAtHome EnglishEducation  \\\n",
       "0       90000.0              2                     0        Bachelors   \n",
       "1       60000.0              3                     3        Bachelors   \n",
       "2       60000.0              3                     3        Bachelors   \n",
       "3       70000.0              0                     0        Bachelors   \n",
       "4       80000.0              5                     5        Bachelors   \n",
       "\n",
       "  EnglishOccupation HouseOwnerFlag  NumberCarsOwned    endDate  \n",
       "0      Professional              1                0 2014-01-20  \n",
       "1      Professional              0                1 2014-01-20  \n",
       "2      Professional              1                1 2014-01-20  \n",
       "3      Professional              0                1 2014-01-20  \n",
       "4      Professional              1                4 2014-01-20  "
      ]
     },
     "execution_count": 9,
     "metadata": {},
     "output_type": "execute_result"
    }
   ],
   "source": [
    "dimCust.head()"
   ]
  },
  {
   "cell_type": "code",
   "execution_count": 10,
   "id": "1d26edc5",
   "metadata": {
    "scrolled": true
   },
   "outputs": [
    {
     "data": {
      "text/plain": [
       "CustomerKey                      int64\n",
       "BirthDate               datetime64[ns]\n",
       "DateFirstPurchase       datetime64[ns]\n",
       "MaritalStatus                   object\n",
       "Gender                          object\n",
       "YearlyIncome                   float64\n",
       "TotalChildren                    int64\n",
       "NumberChildrenAtHome             int64\n",
       "EnglishEducation                object\n",
       "EnglishOccupation               object\n",
       "HouseOwnerFlag                  object\n",
       "NumberCarsOwned                  int64\n",
       "endDate                 datetime64[ns]\n",
       "dtype: object"
      ]
     },
     "execution_count": 10,
     "metadata": {},
     "output_type": "execute_result"
    }
   ],
   "source": [
    "dimCust.dtypes"
   ]
  },
  {
   "cell_type": "code",
   "execution_count": 11,
   "id": "0a43786e",
   "metadata": {},
   "outputs": [],
   "source": [
    "#add age column and change to datetime format\n",
    "dimCust[\"Age\"]=dimCust[\"endDate\"]-dimCust[\"BirthDate\"]\n",
    "dimCust['Age']=dimCust['Age']/np.timedelta64(1,'Y')"
   ]
  },
  {
   "cell_type": "code",
   "execution_count": 12,
   "id": "ae19e1c8",
   "metadata": {},
   "outputs": [
    {
     "data": {
      "text/html": [
       "<div>\n",
       "<style scoped>\n",
       "    .dataframe tbody tr th:only-of-type {\n",
       "        vertical-align: middle;\n",
       "    }\n",
       "\n",
       "    .dataframe tbody tr th {\n",
       "        vertical-align: top;\n",
       "    }\n",
       "\n",
       "    .dataframe thead th {\n",
       "        text-align: right;\n",
       "    }\n",
       "</style>\n",
       "<table border=\"1\" class=\"dataframe\">\n",
       "  <thead>\n",
       "    <tr style=\"text-align: right;\">\n",
       "      <th></th>\n",
       "      <th>CustomerKey</th>\n",
       "      <th>BirthDate</th>\n",
       "      <th>DateFirstPurchase</th>\n",
       "      <th>MaritalStatus</th>\n",
       "      <th>Gender</th>\n",
       "      <th>YearlyIncome</th>\n",
       "      <th>TotalChildren</th>\n",
       "      <th>NumberChildrenAtHome</th>\n",
       "      <th>EnglishEducation</th>\n",
       "      <th>EnglishOccupation</th>\n",
       "      <th>HouseOwnerFlag</th>\n",
       "      <th>NumberCarsOwned</th>\n",
       "      <th>endDate</th>\n",
       "      <th>Age</th>\n",
       "    </tr>\n",
       "  </thead>\n",
       "  <tbody>\n",
       "    <tr>\n",
       "      <th>0</th>\n",
       "      <td>11000</td>\n",
       "      <td>1971-10-06</td>\n",
       "      <td>2011-01-19</td>\n",
       "      <td>M</td>\n",
       "      <td>M</td>\n",
       "      <td>90000.0</td>\n",
       "      <td>2</td>\n",
       "      <td>0</td>\n",
       "      <td>Bachelors</td>\n",
       "      <td>Professional</td>\n",
       "      <td>1</td>\n",
       "      <td>0</td>\n",
       "      <td>2014-01-20</td>\n",
       "      <td>42.292450</td>\n",
       "    </tr>\n",
       "    <tr>\n",
       "      <th>1</th>\n",
       "      <td>11001</td>\n",
       "      <td>1976-05-10</td>\n",
       "      <td>2011-01-15</td>\n",
       "      <td>S</td>\n",
       "      <td>M</td>\n",
       "      <td>60000.0</td>\n",
       "      <td>3</td>\n",
       "      <td>3</td>\n",
       "      <td>Bachelors</td>\n",
       "      <td>Professional</td>\n",
       "      <td>0</td>\n",
       "      <td>1</td>\n",
       "      <td>2014-01-20</td>\n",
       "      <td>37.698242</td>\n",
       "    </tr>\n",
       "    <tr>\n",
       "      <th>2</th>\n",
       "      <td>11002</td>\n",
       "      <td>1971-02-09</td>\n",
       "      <td>2011-01-07</td>\n",
       "      <td>M</td>\n",
       "      <td>M</td>\n",
       "      <td>60000.0</td>\n",
       "      <td>3</td>\n",
       "      <td>3</td>\n",
       "      <td>Bachelors</td>\n",
       "      <td>Professional</td>\n",
       "      <td>1</td>\n",
       "      <td>1</td>\n",
       "      <td>2014-01-20</td>\n",
       "      <td>42.946809</td>\n",
       "    </tr>\n",
       "    <tr>\n",
       "      <th>3</th>\n",
       "      <td>11003</td>\n",
       "      <td>1973-08-14</td>\n",
       "      <td>2010-12-29</td>\n",
       "      <td>S</td>\n",
       "      <td>F</td>\n",
       "      <td>70000.0</td>\n",
       "      <td>0</td>\n",
       "      <td>0</td>\n",
       "      <td>Bachelors</td>\n",
       "      <td>Professional</td>\n",
       "      <td>0</td>\n",
       "      <td>1</td>\n",
       "      <td>2014-01-20</td>\n",
       "      <td>40.436149</td>\n",
       "    </tr>\n",
       "    <tr>\n",
       "      <th>4</th>\n",
       "      <td>11004</td>\n",
       "      <td>1979-08-05</td>\n",
       "      <td>2011-01-23</td>\n",
       "      <td>S</td>\n",
       "      <td>F</td>\n",
       "      <td>80000.0</td>\n",
       "      <td>5</td>\n",
       "      <td>5</td>\n",
       "      <td>Bachelors</td>\n",
       "      <td>Professional</td>\n",
       "      <td>1</td>\n",
       "      <td>4</td>\n",
       "      <td>2014-01-20</td>\n",
       "      <td>34.462035</td>\n",
       "    </tr>\n",
       "  </tbody>\n",
       "</table>\n",
       "</div>"
      ],
      "text/plain": [
       "   CustomerKey  BirthDate DateFirstPurchase MaritalStatus Gender  \\\n",
       "0        11000 1971-10-06        2011-01-19             M      M   \n",
       "1        11001 1976-05-10        2011-01-15             S      M   \n",
       "2        11002 1971-02-09        2011-01-07             M      M   \n",
       "3        11003 1973-08-14        2010-12-29             S      F   \n",
       "4        11004 1979-08-05        2011-01-23             S      F   \n",
       "\n",
       "   YearlyIncome  TotalChildren  NumberChildrenAtHome EnglishEducation  \\\n",
       "0       90000.0              2                     0        Bachelors   \n",
       "1       60000.0              3                     3        Bachelors   \n",
       "2       60000.0              3                     3        Bachelors   \n",
       "3       70000.0              0                     0        Bachelors   \n",
       "4       80000.0              5                     5        Bachelors   \n",
       "\n",
       "  EnglishOccupation HouseOwnerFlag  NumberCarsOwned    endDate        Age  \n",
       "0      Professional              1                0 2014-01-20  42.292450  \n",
       "1      Professional              0                1 2014-01-20  37.698242  \n",
       "2      Professional              1                1 2014-01-20  42.946809  \n",
       "3      Professional              0                1 2014-01-20  40.436149  \n",
       "4      Professional              1                4 2014-01-20  34.462035  "
      ]
     },
     "execution_count": 12,
     "metadata": {},
     "output_type": "execute_result"
    }
   ],
   "source": [
    "dimCust.head()"
   ]
  },
  {
   "cell_type": "code",
   "execution_count": 13,
   "id": "ec36f8b9",
   "metadata": {
    "scrolled": true
   },
   "outputs": [
    {
     "data": {
      "text/plain": [
       "CustomerKey                      int64\n",
       "BirthDate               datetime64[ns]\n",
       "DateFirstPurchase       datetime64[ns]\n",
       "MaritalStatus                   object\n",
       "Gender                          object\n",
       "YearlyIncome                   float64\n",
       "TotalChildren                    int64\n",
       "NumberChildrenAtHome             int64\n",
       "EnglishEducation                object\n",
       "EnglishOccupation               object\n",
       "HouseOwnerFlag                  object\n",
       "NumberCarsOwned                  int64\n",
       "endDate                 datetime64[ns]\n",
       "Age                            float64\n",
       "dtype: object"
      ]
     },
     "execution_count": 13,
     "metadata": {},
     "output_type": "execute_result"
    }
   ],
   "source": [
    "dimCust.dtypes"
   ]
  },
  {
   "cell_type": "code",
   "execution_count": 14,
   "id": "2e8b17d8",
   "metadata": {},
   "outputs": [
    {
     "data": {
      "text/plain": [
       "(18484, 14)"
      ]
     },
     "execution_count": 14,
     "metadata": {},
     "output_type": "execute_result"
    }
   ],
   "source": [
    "dimCust.shape"
   ]
  },
  {
   "cell_type": "code",
   "execution_count": 15,
   "id": "2059b3d2",
   "metadata": {},
   "outputs": [],
   "source": [
    "#getting more features form sql\n",
    "conn = pyodbc.connect('Driver={SQL Server};'\n",
    "'Server=DESKTOP-MB976LQ;'\n",
    "'Database=AdventureWorksDW2017;'\n",
    "'Trusted_Connection=yes;')\n",
    "sql_for_df = \"select CustomerKey,SalesOrderNumber,SalesAmount,ProductStandardCost,OrderQuantity, SalesAmount-ProductStandardCost as Profit, OrderDate from dbo.FactInternetSales\"\n",
    "sale = pd.read_sql(sql_for_df , conn)\n",
    "conn.close()"
   ]
  },
  {
   "cell_type": "code",
   "execution_count": 16,
   "id": "f618e191",
   "metadata": {},
   "outputs": [
    {
     "data": {
      "text/html": [
       "<div>\n",
       "<style scoped>\n",
       "    .dataframe tbody tr th:only-of-type {\n",
       "        vertical-align: middle;\n",
       "    }\n",
       "\n",
       "    .dataframe tbody tr th {\n",
       "        vertical-align: top;\n",
       "    }\n",
       "\n",
       "    .dataframe thead th {\n",
       "        text-align: right;\n",
       "    }\n",
       "</style>\n",
       "<table border=\"1\" class=\"dataframe\">\n",
       "  <thead>\n",
       "    <tr style=\"text-align: right;\">\n",
       "      <th></th>\n",
       "      <th>CustomerKey</th>\n",
       "      <th>SalesOrderNumber</th>\n",
       "      <th>SalesAmount</th>\n",
       "      <th>ProductStandardCost</th>\n",
       "      <th>OrderQuantity</th>\n",
       "      <th>Profit</th>\n",
       "      <th>OrderDate</th>\n",
       "    </tr>\n",
       "  </thead>\n",
       "  <tbody>\n",
       "    <tr>\n",
       "      <th>0</th>\n",
       "      <td>21768</td>\n",
       "      <td>SO43697</td>\n",
       "      <td>3578.2700</td>\n",
       "      <td>2171.2942</td>\n",
       "      <td>1</td>\n",
       "      <td>1406.9758</td>\n",
       "      <td>2010-12-29</td>\n",
       "    </tr>\n",
       "    <tr>\n",
       "      <th>1</th>\n",
       "      <td>28389</td>\n",
       "      <td>SO43698</td>\n",
       "      <td>3399.9900</td>\n",
       "      <td>1912.1544</td>\n",
       "      <td>1</td>\n",
       "      <td>1487.8356</td>\n",
       "      <td>2010-12-29</td>\n",
       "    </tr>\n",
       "    <tr>\n",
       "      <th>2</th>\n",
       "      <td>25863</td>\n",
       "      <td>SO43699</td>\n",
       "      <td>3399.9900</td>\n",
       "      <td>1912.1544</td>\n",
       "      <td>1</td>\n",
       "      <td>1487.8356</td>\n",
       "      <td>2010-12-29</td>\n",
       "    </tr>\n",
       "    <tr>\n",
       "      <th>3</th>\n",
       "      <td>14501</td>\n",
       "      <td>SO43700</td>\n",
       "      <td>699.0982</td>\n",
       "      <td>413.1463</td>\n",
       "      <td>1</td>\n",
       "      <td>285.9519</td>\n",
       "      <td>2010-12-29</td>\n",
       "    </tr>\n",
       "    <tr>\n",
       "      <th>4</th>\n",
       "      <td>11003</td>\n",
       "      <td>SO43701</td>\n",
       "      <td>3399.9900</td>\n",
       "      <td>1912.1544</td>\n",
       "      <td>1</td>\n",
       "      <td>1487.8356</td>\n",
       "      <td>2010-12-29</td>\n",
       "    </tr>\n",
       "  </tbody>\n",
       "</table>\n",
       "</div>"
      ],
      "text/plain": [
       "   CustomerKey SalesOrderNumber  SalesAmount  ProductStandardCost  \\\n",
       "0        21768          SO43697    3578.2700            2171.2942   \n",
       "1        28389          SO43698    3399.9900            1912.1544   \n",
       "2        25863          SO43699    3399.9900            1912.1544   \n",
       "3        14501          SO43700     699.0982             413.1463   \n",
       "4        11003          SO43701    3399.9900            1912.1544   \n",
       "\n",
       "   OrderQuantity     Profit  OrderDate  \n",
       "0              1  1406.9758 2010-12-29  \n",
       "1              1  1487.8356 2010-12-29  \n",
       "2              1  1487.8356 2010-12-29  \n",
       "3              1   285.9519 2010-12-29  \n",
       "4              1  1487.8356 2010-12-29  "
      ]
     },
     "execution_count": 16,
     "metadata": {},
     "output_type": "execute_result"
    }
   ],
   "source": [
    "sale.head()"
   ]
  },
  {
   "cell_type": "code",
   "execution_count": 17,
   "id": "52a09389",
   "metadata": {},
   "outputs": [
    {
     "data": {
      "text/plain": [
       "(60398, 7)"
      ]
     },
     "execution_count": 17,
     "metadata": {},
     "output_type": "execute_result"
    }
   ],
   "source": [
    "sale.shape"
   ]
  },
  {
   "cell_type": "code",
   "execution_count": 18,
   "id": "1dcc4c70",
   "metadata": {},
   "outputs": [
    {
     "data": {
      "text/plain": [
       "CustomerKey                     int64\n",
       "SalesOrderNumber               object\n",
       "SalesAmount                   float64\n",
       "ProductStandardCost           float64\n",
       "OrderQuantity                   int64\n",
       "Profit                        float64\n",
       "OrderDate              datetime64[ns]\n",
       "dtype: object"
      ]
     },
     "execution_count": 18,
     "metadata": {},
     "output_type": "execute_result"
    }
   ],
   "source": [
    "sale.dtypes"
   ]
  },
  {
   "cell_type": "code",
   "execution_count": 19,
   "id": "b6aad5bd",
   "metadata": {},
   "outputs": [],
   "source": [
    "saleDf=sale.copy()"
   ]
  },
  {
   "cell_type": "code",
   "execution_count": 20,
   "id": "9fc892d5",
   "metadata": {},
   "outputs": [],
   "source": [
    "#get the minimum and maximum transaction date\n",
    "agg= [\"max\", \"min\"] \n",
    "dateTable=saleDf.groupby(\"CustomerKey\").agg({\"OrderDate\" \n",
    "                                       :agg}).reset_index()"
   ]
  },
  {
   "cell_type": "code",
   "execution_count": 21,
   "id": "392e9202",
   "metadata": {},
   "outputs": [
    {
     "data": {
      "text/html": [
       "<div>\n",
       "<style scoped>\n",
       "    .dataframe tbody tr th:only-of-type {\n",
       "        vertical-align: middle;\n",
       "    }\n",
       "\n",
       "    .dataframe tbody tr th {\n",
       "        vertical-align: top;\n",
       "    }\n",
       "\n",
       "    .dataframe thead tr th {\n",
       "        text-align: left;\n",
       "    }\n",
       "</style>\n",
       "<table border=\"1\" class=\"dataframe\">\n",
       "  <thead>\n",
       "    <tr>\n",
       "      <th></th>\n",
       "      <th>CustomerKey</th>\n",
       "      <th colspan=\"2\" halign=\"left\">OrderDate</th>\n",
       "    </tr>\n",
       "    <tr>\n",
       "      <th></th>\n",
       "      <th></th>\n",
       "      <th>max</th>\n",
       "      <th>min</th>\n",
       "    </tr>\n",
       "  </thead>\n",
       "  <tbody>\n",
       "    <tr>\n",
       "      <th>0</th>\n",
       "      <td>11000</td>\n",
       "      <td>2013-05-03</td>\n",
       "      <td>2011-01-19</td>\n",
       "    </tr>\n",
       "    <tr>\n",
       "      <th>1</th>\n",
       "      <td>11001</td>\n",
       "      <td>2013-12-10</td>\n",
       "      <td>2011-01-15</td>\n",
       "    </tr>\n",
       "    <tr>\n",
       "      <th>2</th>\n",
       "      <td>11002</td>\n",
       "      <td>2013-02-23</td>\n",
       "      <td>2011-01-07</td>\n",
       "    </tr>\n",
       "    <tr>\n",
       "      <th>3</th>\n",
       "      <td>11003</td>\n",
       "      <td>2013-05-10</td>\n",
       "      <td>2010-12-29</td>\n",
       "    </tr>\n",
       "    <tr>\n",
       "      <th>4</th>\n",
       "      <td>11004</td>\n",
       "      <td>2013-05-01</td>\n",
       "      <td>2011-01-23</td>\n",
       "    </tr>\n",
       "  </tbody>\n",
       "</table>\n",
       "</div>"
      ],
      "text/plain": [
       "  CustomerKey  OrderDate           \n",
       "                     max        min\n",
       "0       11000 2013-05-03 2011-01-19\n",
       "1       11001 2013-12-10 2011-01-15\n",
       "2       11002 2013-02-23 2011-01-07\n",
       "3       11003 2013-05-10 2010-12-29\n",
       "4       11004 2013-05-01 2011-01-23"
      ]
     },
     "execution_count": 21,
     "metadata": {},
     "output_type": "execute_result"
    }
   ],
   "source": [
    "dateTable.head()"
   ]
  },
  {
   "cell_type": "code",
   "execution_count": 22,
   "id": "d76e3943",
   "metadata": {},
   "outputs": [
    {
     "data": {
      "text/plain": [
       "(18484, 3)"
      ]
     },
     "execution_count": 22,
     "metadata": {},
     "output_type": "execute_result"
    }
   ],
   "source": [
    "dateTable.shape"
   ]
  },
  {
   "cell_type": "code",
   "execution_count": 23,
   "id": "60a9409f",
   "metadata": {},
   "outputs": [
    {
     "name": "stderr",
     "output_type": "stream",
     "text": [
      "C:\\Users\\anuma\\anaconda3\\lib\\site-packages\\pandas\\core\\generic.py:4153: PerformanceWarning:\n",
      "\n",
      "dropping on a non-lexsorted multi-index without a level parameter may impact performance.\n",
      "\n",
      "<ipython-input-23-79c7d109ba18>:3: FutureWarning:\n",
      "\n",
      "Index.ravel returning ndarray is deprecated; in a future version this will return a view on self.\n",
      "\n"
     ]
    },
    {
     "data": {
      "text/html": [
       "<div>\n",
       "<style scoped>\n",
       "    .dataframe tbody tr th:only-of-type {\n",
       "        vertical-align: middle;\n",
       "    }\n",
       "\n",
       "    .dataframe tbody tr th {\n",
       "        vertical-align: top;\n",
       "    }\n",
       "\n",
       "    .dataframe thead th {\n",
       "        text-align: right;\n",
       "    }\n",
       "</style>\n",
       "<table border=\"1\" class=\"dataframe\">\n",
       "  <thead>\n",
       "    <tr style=\"text-align: right;\">\n",
       "      <th></th>\n",
       "      <th>OrderDate_max</th>\n",
       "      <th>OrderDate_min</th>\n",
       "    </tr>\n",
       "  </thead>\n",
       "  <tbody>\n",
       "    <tr>\n",
       "      <th>0</th>\n",
       "      <td>2013-05-03</td>\n",
       "      <td>2011-01-19</td>\n",
       "    </tr>\n",
       "    <tr>\n",
       "      <th>1</th>\n",
       "      <td>2013-12-10</td>\n",
       "      <td>2011-01-15</td>\n",
       "    </tr>\n",
       "    <tr>\n",
       "      <th>2</th>\n",
       "      <td>2013-02-23</td>\n",
       "      <td>2011-01-07</td>\n",
       "    </tr>\n",
       "    <tr>\n",
       "      <th>3</th>\n",
       "      <td>2013-05-10</td>\n",
       "      <td>2010-12-29</td>\n",
       "    </tr>\n",
       "    <tr>\n",
       "      <th>4</th>\n",
       "      <td>2013-05-01</td>\n",
       "      <td>2011-01-23</td>\n",
       "    </tr>\n",
       "  </tbody>\n",
       "</table>\n",
       "</div>"
      ],
      "text/plain": [
       "  OrderDate_max OrderDate_min\n",
       "0    2013-05-03    2011-01-19\n",
       "1    2013-12-10    2011-01-15\n",
       "2    2013-02-23    2011-01-07\n",
       "3    2013-05-10    2010-12-29\n",
       "4    2013-05-01    2011-01-23"
      ]
     },
     "execution_count": 23,
     "metadata": {},
     "output_type": "execute_result"
    }
   ],
   "source": [
    "#drop customer key\n",
    "dtt=dateTable.drop(\"CustomerKey\", axis = 1)\n",
    "dtt.columns=[\"_\".join(dtt) for dtt in dtt.columns.ravel()]\n",
    "dtt.head()"
   ]
  },
  {
   "cell_type": "code",
   "execution_count": 24,
   "id": "d04c394b",
   "metadata": {},
   "outputs": [
    {
     "data": {
      "text/html": [
       "<div>\n",
       "<style scoped>\n",
       "    .dataframe tbody tr th:only-of-type {\n",
       "        vertical-align: middle;\n",
       "    }\n",
       "\n",
       "    .dataframe tbody tr th {\n",
       "        vertical-align: top;\n",
       "    }\n",
       "\n",
       "    .dataframe thead th {\n",
       "        text-align: right;\n",
       "    }\n",
       "</style>\n",
       "<table border=\"1\" class=\"dataframe\">\n",
       "  <thead>\n",
       "    <tr style=\"text-align: right;\">\n",
       "      <th></th>\n",
       "      <th>CustomerKey</th>\n",
       "      <th>OrderDate_max</th>\n",
       "      <th>OrderDate_min</th>\n",
       "    </tr>\n",
       "  </thead>\n",
       "  <tbody>\n",
       "    <tr>\n",
       "      <th>0</th>\n",
       "      <td>11000</td>\n",
       "      <td>2013-05-03</td>\n",
       "      <td>2011-01-19</td>\n",
       "    </tr>\n",
       "    <tr>\n",
       "      <th>1</th>\n",
       "      <td>11001</td>\n",
       "      <td>2013-12-10</td>\n",
       "      <td>2011-01-15</td>\n",
       "    </tr>\n",
       "    <tr>\n",
       "      <th>2</th>\n",
       "      <td>11002</td>\n",
       "      <td>2013-02-23</td>\n",
       "      <td>2011-01-07</td>\n",
       "    </tr>\n",
       "    <tr>\n",
       "      <th>3</th>\n",
       "      <td>11003</td>\n",
       "      <td>2013-05-10</td>\n",
       "      <td>2010-12-29</td>\n",
       "    </tr>\n",
       "    <tr>\n",
       "      <th>4</th>\n",
       "      <td>11004</td>\n",
       "      <td>2013-05-01</td>\n",
       "      <td>2011-01-23</td>\n",
       "    </tr>\n",
       "  </tbody>\n",
       "</table>\n",
       "</div>"
      ],
      "text/plain": [
       "   CustomerKey OrderDate_max OrderDate_min\n",
       "0        11000    2013-05-03    2011-01-19\n",
       "1        11001    2013-12-10    2011-01-15\n",
       "2        11002    2013-02-23    2011-01-07\n",
       "3        11003    2013-05-10    2010-12-29\n",
       "4        11004    2013-05-01    2011-01-23"
      ]
     },
     "execution_count": 24,
     "metadata": {},
     "output_type": "execute_result"
    }
   ],
   "source": [
    "#add customer key back\n",
    "\n",
    "dtt.insert(0, \"CustomerKey\", dateTable[\"CustomerKey\"])\n",
    "dtt.head()"
   ]
  },
  {
   "cell_type": "code",
   "execution_count": 25,
   "id": "e82f54d4",
   "metadata": {},
   "outputs": [],
   "source": [
    "#group and aggrigate the coulums\n",
    "agg= [\"max\", \"min\",\"sum\"] \n",
    "vv=saleDf.groupby(\"CustomerKey\").agg({\"SalesAmount\":agg, \"ProductStandardCost\":\n",
    "                                             agg,\"OrderQuantity\":agg,\"Profit\":agg}).reset_index()"
   ]
  },
  {
   "cell_type": "code",
   "execution_count": 26,
   "id": "72a28a3e",
   "metadata": {},
   "outputs": [
    {
     "data": {
      "text/html": [
       "<div>\n",
       "<style scoped>\n",
       "    .dataframe tbody tr th:only-of-type {\n",
       "        vertical-align: middle;\n",
       "    }\n",
       "\n",
       "    .dataframe tbody tr th {\n",
       "        vertical-align: top;\n",
       "    }\n",
       "\n",
       "    .dataframe thead tr th {\n",
       "        text-align: left;\n",
       "    }\n",
       "</style>\n",
       "<table border=\"1\" class=\"dataframe\">\n",
       "  <thead>\n",
       "    <tr>\n",
       "      <th></th>\n",
       "      <th>CustomerKey</th>\n",
       "      <th colspan=\"3\" halign=\"left\">SalesAmount</th>\n",
       "      <th colspan=\"3\" halign=\"left\">ProductStandardCost</th>\n",
       "      <th colspan=\"3\" halign=\"left\">OrderQuantity</th>\n",
       "      <th colspan=\"3\" halign=\"left\">Profit</th>\n",
       "    </tr>\n",
       "    <tr>\n",
       "      <th></th>\n",
       "      <th></th>\n",
       "      <th>max</th>\n",
       "      <th>min</th>\n",
       "      <th>sum</th>\n",
       "      <th>max</th>\n",
       "      <th>min</th>\n",
       "      <th>sum</th>\n",
       "      <th>max</th>\n",
       "      <th>min</th>\n",
       "      <th>sum</th>\n",
       "      <th>max</th>\n",
       "      <th>min</th>\n",
       "      <th>sum</th>\n",
       "    </tr>\n",
       "  </thead>\n",
       "  <tbody>\n",
       "    <tr>\n",
       "      <th>0</th>\n",
       "      <td>11000</td>\n",
       "      <td>3399.99</td>\n",
       "      <td>4.99</td>\n",
       "      <td>8248.99</td>\n",
       "      <td>1912.1544</td>\n",
       "      <td>1.8663</td>\n",
       "      <td>4735.2995</td>\n",
       "      <td>1</td>\n",
       "      <td>1</td>\n",
       "      <td>8</td>\n",
       "      <td>1487.8356</td>\n",
       "      <td>3.1237</td>\n",
       "      <td>3513.6905</td>\n",
       "    </tr>\n",
       "    <tr>\n",
       "      <th>1</th>\n",
       "      <td>11001</td>\n",
       "      <td>3374.99</td>\n",
       "      <td>4.99</td>\n",
       "      <td>6383.88</td>\n",
       "      <td>1898.0944</td>\n",
       "      <td>1.8663</td>\n",
       "      <td>3587.9961</td>\n",
       "      <td>1</td>\n",
       "      <td>1</td>\n",
       "      <td>11</td>\n",
       "      <td>1476.8956</td>\n",
       "      <td>2.0677</td>\n",
       "      <td>2795.8839</td>\n",
       "    </tr>\n",
       "    <tr>\n",
       "      <th>2</th>\n",
       "      <td>11002</td>\n",
       "      <td>3399.99</td>\n",
       "      <td>34.99</td>\n",
       "      <td>8114.04</td>\n",
       "      <td>1912.1544</td>\n",
       "      <td>13.0863</td>\n",
       "      <td>4659.1599</td>\n",
       "      <td>1</td>\n",
       "      <td>1</td>\n",
       "      <td>4</td>\n",
       "      <td>1487.8356</td>\n",
       "      <td>21.9037</td>\n",
       "      <td>3454.8801</td>\n",
       "    </tr>\n",
       "    <tr>\n",
       "      <th>3</th>\n",
       "      <td>11003</td>\n",
       "      <td>3399.99</td>\n",
       "      <td>2.29</td>\n",
       "      <td>8139.29</td>\n",
       "      <td>1912.1544</td>\n",
       "      <td>0.8565</td>\n",
       "      <td>4672.1636</td>\n",
       "      <td>1</td>\n",
       "      <td>1</td>\n",
       "      <td>9</td>\n",
       "      <td>1487.8356</td>\n",
       "      <td>1.4335</td>\n",
       "      <td>3467.1264</td>\n",
       "    </tr>\n",
       "    <tr>\n",
       "      <th>4</th>\n",
       "      <td>11004</td>\n",
       "      <td>3399.99</td>\n",
       "      <td>21.98</td>\n",
       "      <td>8196.01</td>\n",
       "      <td>1912.1544</td>\n",
       "      <td>8.2205</td>\n",
       "      <td>4694.1049</td>\n",
       "      <td>1</td>\n",
       "      <td>1</td>\n",
       "      <td>6</td>\n",
       "      <td>1487.8356</td>\n",
       "      <td>13.7595</td>\n",
       "      <td>3501.9051</td>\n",
       "    </tr>\n",
       "  </tbody>\n",
       "</table>\n",
       "</div>"
      ],
      "text/plain": [
       "  CustomerKey SalesAmount                 ProductStandardCost           \\\n",
       "                      max    min      sum                 max      min   \n",
       "0       11000     3399.99   4.99  8248.99           1912.1544   1.8663   \n",
       "1       11001     3374.99   4.99  6383.88           1898.0944   1.8663   \n",
       "2       11002     3399.99  34.99  8114.04           1912.1544  13.0863   \n",
       "3       11003     3399.99   2.29  8139.29           1912.1544   0.8565   \n",
       "4       11004     3399.99  21.98  8196.01           1912.1544   8.2205   \n",
       "\n",
       "             OrderQuantity             Profit                      \n",
       "         sum           max min sum        max      min        sum  \n",
       "0  4735.2995             1   1   8  1487.8356   3.1237  3513.6905  \n",
       "1  3587.9961             1   1  11  1476.8956   2.0677  2795.8839  \n",
       "2  4659.1599             1   1   4  1487.8356  21.9037  3454.8801  \n",
       "3  4672.1636             1   1   9  1487.8356   1.4335  3467.1264  \n",
       "4  4694.1049             1   1   6  1487.8356  13.7595  3501.9051  "
      ]
     },
     "execution_count": 26,
     "metadata": {},
     "output_type": "execute_result"
    }
   ],
   "source": [
    "vv.head()"
   ]
  },
  {
   "cell_type": "code",
   "execution_count": 27,
   "id": "6f3af584",
   "metadata": {},
   "outputs": [
    {
     "name": "stderr",
     "output_type": "stream",
     "text": [
      "C:\\Users\\anuma\\anaconda3\\lib\\site-packages\\pandas\\core\\generic.py:4153: PerformanceWarning:\n",
      "\n",
      "dropping on a non-lexsorted multi-index without a level parameter may impact performance.\n",
      "\n",
      "<ipython-input-27-1e0d3dd40c5d>:3: FutureWarning:\n",
      "\n",
      "Index.ravel returning ndarray is deprecated; in a future version this will return a view on self.\n",
      "\n"
     ]
    },
    {
     "data": {
      "text/html": [
       "<div>\n",
       "<style scoped>\n",
       "    .dataframe tbody tr th:only-of-type {\n",
       "        vertical-align: middle;\n",
       "    }\n",
       "\n",
       "    .dataframe tbody tr th {\n",
       "        vertical-align: top;\n",
       "    }\n",
       "\n",
       "    .dataframe thead th {\n",
       "        text-align: right;\n",
       "    }\n",
       "</style>\n",
       "<table border=\"1\" class=\"dataframe\">\n",
       "  <thead>\n",
       "    <tr style=\"text-align: right;\">\n",
       "      <th></th>\n",
       "      <th>SalesAmount_max</th>\n",
       "      <th>SalesAmount_min</th>\n",
       "      <th>SalesAmount_sum</th>\n",
       "      <th>ProductStandardCost_max</th>\n",
       "      <th>ProductStandardCost_min</th>\n",
       "      <th>ProductStandardCost_sum</th>\n",
       "      <th>OrderQuantity_max</th>\n",
       "      <th>OrderQuantity_min</th>\n",
       "      <th>OrderQuantity_sum</th>\n",
       "      <th>Profit_max</th>\n",
       "      <th>Profit_min</th>\n",
       "      <th>Profit_sum</th>\n",
       "    </tr>\n",
       "  </thead>\n",
       "  <tbody>\n",
       "    <tr>\n",
       "      <th>0</th>\n",
       "      <td>3399.99</td>\n",
       "      <td>4.99</td>\n",
       "      <td>8248.99</td>\n",
       "      <td>1912.1544</td>\n",
       "      <td>1.8663</td>\n",
       "      <td>4735.2995</td>\n",
       "      <td>1</td>\n",
       "      <td>1</td>\n",
       "      <td>8</td>\n",
       "      <td>1487.8356</td>\n",
       "      <td>3.1237</td>\n",
       "      <td>3513.6905</td>\n",
       "    </tr>\n",
       "    <tr>\n",
       "      <th>1</th>\n",
       "      <td>3374.99</td>\n",
       "      <td>4.99</td>\n",
       "      <td>6383.88</td>\n",
       "      <td>1898.0944</td>\n",
       "      <td>1.8663</td>\n",
       "      <td>3587.9961</td>\n",
       "      <td>1</td>\n",
       "      <td>1</td>\n",
       "      <td>11</td>\n",
       "      <td>1476.8956</td>\n",
       "      <td>2.0677</td>\n",
       "      <td>2795.8839</td>\n",
       "    </tr>\n",
       "    <tr>\n",
       "      <th>2</th>\n",
       "      <td>3399.99</td>\n",
       "      <td>34.99</td>\n",
       "      <td>8114.04</td>\n",
       "      <td>1912.1544</td>\n",
       "      <td>13.0863</td>\n",
       "      <td>4659.1599</td>\n",
       "      <td>1</td>\n",
       "      <td>1</td>\n",
       "      <td>4</td>\n",
       "      <td>1487.8356</td>\n",
       "      <td>21.9037</td>\n",
       "      <td>3454.8801</td>\n",
       "    </tr>\n",
       "    <tr>\n",
       "      <th>3</th>\n",
       "      <td>3399.99</td>\n",
       "      <td>2.29</td>\n",
       "      <td>8139.29</td>\n",
       "      <td>1912.1544</td>\n",
       "      <td>0.8565</td>\n",
       "      <td>4672.1636</td>\n",
       "      <td>1</td>\n",
       "      <td>1</td>\n",
       "      <td>9</td>\n",
       "      <td>1487.8356</td>\n",
       "      <td>1.4335</td>\n",
       "      <td>3467.1264</td>\n",
       "    </tr>\n",
       "    <tr>\n",
       "      <th>4</th>\n",
       "      <td>3399.99</td>\n",
       "      <td>21.98</td>\n",
       "      <td>8196.01</td>\n",
       "      <td>1912.1544</td>\n",
       "      <td>8.2205</td>\n",
       "      <td>4694.1049</td>\n",
       "      <td>1</td>\n",
       "      <td>1</td>\n",
       "      <td>6</td>\n",
       "      <td>1487.8356</td>\n",
       "      <td>13.7595</td>\n",
       "      <td>3501.9051</td>\n",
       "    </tr>\n",
       "  </tbody>\n",
       "</table>\n",
       "</div>"
      ],
      "text/plain": [
       "   SalesAmount_max  SalesAmount_min  SalesAmount_sum  ProductStandardCost_max  \\\n",
       "0          3399.99             4.99          8248.99                1912.1544   \n",
       "1          3374.99             4.99          6383.88                1898.0944   \n",
       "2          3399.99            34.99          8114.04                1912.1544   \n",
       "3          3399.99             2.29          8139.29                1912.1544   \n",
       "4          3399.99            21.98          8196.01                1912.1544   \n",
       "\n",
       "   ProductStandardCost_min  ProductStandardCost_sum  OrderQuantity_max  \\\n",
       "0                   1.8663                4735.2995                  1   \n",
       "1                   1.8663                3587.9961                  1   \n",
       "2                  13.0863                4659.1599                  1   \n",
       "3                   0.8565                4672.1636                  1   \n",
       "4                   8.2205                4694.1049                  1   \n",
       "\n",
       "   OrderQuantity_min  OrderQuantity_sum  Profit_max  Profit_min  Profit_sum  \n",
       "0                  1                  8   1487.8356      3.1237   3513.6905  \n",
       "1                  1                 11   1476.8956      2.0677   2795.8839  \n",
       "2                  1                  4   1487.8356     21.9037   3454.8801  \n",
       "3                  1                  9   1487.8356      1.4335   3467.1264  \n",
       "4                  1                  6   1487.8356     13.7595   3501.9051  "
      ]
     },
     "execution_count": 27,
     "metadata": {},
     "output_type": "execute_result"
    }
   ],
   "source": [
    "#drop customer key and merge the table\n",
    "qq=vv.drop(\"CustomerKey\", axis = 1)\n",
    "qq.columns=[\"_\".join(qq) for qq in qq.columns.ravel()]\n",
    "qq.head()\n"
   ]
  },
  {
   "cell_type": "code",
   "execution_count": 28,
   "id": "1b4ec4e3",
   "metadata": {},
   "outputs": [
    {
     "data": {
      "text/html": [
       "<div>\n",
       "<style scoped>\n",
       "    .dataframe tbody tr th:only-of-type {\n",
       "        vertical-align: middle;\n",
       "    }\n",
       "\n",
       "    .dataframe tbody tr th {\n",
       "        vertical-align: top;\n",
       "    }\n",
       "\n",
       "    .dataframe thead th {\n",
       "        text-align: right;\n",
       "    }\n",
       "</style>\n",
       "<table border=\"1\" class=\"dataframe\">\n",
       "  <thead>\n",
       "    <tr style=\"text-align: right;\">\n",
       "      <th></th>\n",
       "      <th>CustomerKey</th>\n",
       "      <th>SalesAmount_max</th>\n",
       "      <th>SalesAmount_min</th>\n",
       "      <th>SalesAmount_sum</th>\n",
       "      <th>ProductStandardCost_max</th>\n",
       "      <th>ProductStandardCost_min</th>\n",
       "      <th>ProductStandardCost_sum</th>\n",
       "      <th>OrderQuantity_max</th>\n",
       "      <th>OrderQuantity_min</th>\n",
       "      <th>OrderQuantity_sum</th>\n",
       "      <th>Profit_max</th>\n",
       "      <th>Profit_min</th>\n",
       "      <th>Profit_sum</th>\n",
       "    </tr>\n",
       "  </thead>\n",
       "  <tbody>\n",
       "    <tr>\n",
       "      <th>0</th>\n",
       "      <td>11000</td>\n",
       "      <td>3399.99</td>\n",
       "      <td>4.99</td>\n",
       "      <td>8248.99</td>\n",
       "      <td>1912.1544</td>\n",
       "      <td>1.8663</td>\n",
       "      <td>4735.2995</td>\n",
       "      <td>1</td>\n",
       "      <td>1</td>\n",
       "      <td>8</td>\n",
       "      <td>1487.8356</td>\n",
       "      <td>3.1237</td>\n",
       "      <td>3513.6905</td>\n",
       "    </tr>\n",
       "    <tr>\n",
       "      <th>1</th>\n",
       "      <td>11001</td>\n",
       "      <td>3374.99</td>\n",
       "      <td>4.99</td>\n",
       "      <td>6383.88</td>\n",
       "      <td>1898.0944</td>\n",
       "      <td>1.8663</td>\n",
       "      <td>3587.9961</td>\n",
       "      <td>1</td>\n",
       "      <td>1</td>\n",
       "      <td>11</td>\n",
       "      <td>1476.8956</td>\n",
       "      <td>2.0677</td>\n",
       "      <td>2795.8839</td>\n",
       "    </tr>\n",
       "    <tr>\n",
       "      <th>2</th>\n",
       "      <td>11002</td>\n",
       "      <td>3399.99</td>\n",
       "      <td>34.99</td>\n",
       "      <td>8114.04</td>\n",
       "      <td>1912.1544</td>\n",
       "      <td>13.0863</td>\n",
       "      <td>4659.1599</td>\n",
       "      <td>1</td>\n",
       "      <td>1</td>\n",
       "      <td>4</td>\n",
       "      <td>1487.8356</td>\n",
       "      <td>21.9037</td>\n",
       "      <td>3454.8801</td>\n",
       "    </tr>\n",
       "    <tr>\n",
       "      <th>3</th>\n",
       "      <td>11003</td>\n",
       "      <td>3399.99</td>\n",
       "      <td>2.29</td>\n",
       "      <td>8139.29</td>\n",
       "      <td>1912.1544</td>\n",
       "      <td>0.8565</td>\n",
       "      <td>4672.1636</td>\n",
       "      <td>1</td>\n",
       "      <td>1</td>\n",
       "      <td>9</td>\n",
       "      <td>1487.8356</td>\n",
       "      <td>1.4335</td>\n",
       "      <td>3467.1264</td>\n",
       "    </tr>\n",
       "    <tr>\n",
       "      <th>4</th>\n",
       "      <td>11004</td>\n",
       "      <td>3399.99</td>\n",
       "      <td>21.98</td>\n",
       "      <td>8196.01</td>\n",
       "      <td>1912.1544</td>\n",
       "      <td>8.2205</td>\n",
       "      <td>4694.1049</td>\n",
       "      <td>1</td>\n",
       "      <td>1</td>\n",
       "      <td>6</td>\n",
       "      <td>1487.8356</td>\n",
       "      <td>13.7595</td>\n",
       "      <td>3501.9051</td>\n",
       "    </tr>\n",
       "  </tbody>\n",
       "</table>\n",
       "</div>"
      ],
      "text/plain": [
       "   CustomerKey  SalesAmount_max  SalesAmount_min  SalesAmount_sum  \\\n",
       "0        11000          3399.99             4.99          8248.99   \n",
       "1        11001          3374.99             4.99          6383.88   \n",
       "2        11002          3399.99            34.99          8114.04   \n",
       "3        11003          3399.99             2.29          8139.29   \n",
       "4        11004          3399.99            21.98          8196.01   \n",
       "\n",
       "   ProductStandardCost_max  ProductStandardCost_min  ProductStandardCost_sum  \\\n",
       "0                1912.1544                   1.8663                4735.2995   \n",
       "1                1898.0944                   1.8663                3587.9961   \n",
       "2                1912.1544                  13.0863                4659.1599   \n",
       "3                1912.1544                   0.8565                4672.1636   \n",
       "4                1912.1544                   8.2205                4694.1049   \n",
       "\n",
       "   OrderQuantity_max  OrderQuantity_min  OrderQuantity_sum  Profit_max  \\\n",
       "0                  1                  1                  8   1487.8356   \n",
       "1                  1                  1                 11   1476.8956   \n",
       "2                  1                  1                  4   1487.8356   \n",
       "3                  1                  1                  9   1487.8356   \n",
       "4                  1                  1                  6   1487.8356   \n",
       "\n",
       "   Profit_min  Profit_sum  \n",
       "0      3.1237   3513.6905  \n",
       "1      2.0677   2795.8839  \n",
       "2     21.9037   3454.8801  \n",
       "3      1.4335   3467.1264  \n",
       "4     13.7595   3501.9051  "
      ]
     },
     "execution_count": 28,
     "metadata": {},
     "output_type": "execute_result"
    }
   ],
   "source": [
    "#add customer key back\n",
    "qq.insert(0, \"CustomerKey\", vv[\"CustomerKey\"])\n",
    "qq.head()"
   ]
  },
  {
   "cell_type": "code",
   "execution_count": 29,
   "id": "6b064d62",
   "metadata": {},
   "outputs": [
    {
     "data": {
      "text/plain": [
       "(18484, 13)"
      ]
     },
     "execution_count": 29,
     "metadata": {},
     "output_type": "execute_result"
    }
   ],
   "source": [
    "qq.shape"
   ]
  },
  {
   "cell_type": "code",
   "execution_count": 30,
   "id": "a1c7d51d",
   "metadata": {},
   "outputs": [
    {
     "name": "stderr",
     "output_type": "stream",
     "text": [
      "C:\\Users\\anuma\\anaconda3\\lib\\site-packages\\pandas\\core\\reshape\\merge.py:648: UserWarning:\n",
      "\n",
      "merging between different levels can give an unintended result (1 levels on the left,2 on the right)\n",
      "\n",
      "C:\\Users\\anuma\\anaconda3\\lib\\site-packages\\pandas\\core\\generic.py:4153: PerformanceWarning:\n",
      "\n",
      "dropping on a non-lexsorted multi-index without a level parameter may impact performance.\n",
      "\n"
     ]
    }
   ],
   "source": [
    "data=qq.merge(vv, on=[\"CustomerKey\"])"
   ]
  },
  {
   "cell_type": "code",
   "execution_count": 31,
   "id": "693415b5",
   "metadata": {},
   "outputs": [
    {
     "data": {
      "text/html": [
       "<div>\n",
       "<style scoped>\n",
       "    .dataframe tbody tr th:only-of-type {\n",
       "        vertical-align: middle;\n",
       "    }\n",
       "\n",
       "    .dataframe tbody tr th {\n",
       "        vertical-align: top;\n",
       "    }\n",
       "\n",
       "    .dataframe thead th {\n",
       "        text-align: right;\n",
       "    }\n",
       "</style>\n",
       "<table border=\"1\" class=\"dataframe\">\n",
       "  <thead>\n",
       "    <tr style=\"text-align: right;\">\n",
       "      <th></th>\n",
       "      <th>CustomerKey</th>\n",
       "      <th>SalesAmount_max</th>\n",
       "      <th>SalesAmount_min</th>\n",
       "      <th>SalesAmount_sum</th>\n",
       "      <th>ProductStandardCost_max</th>\n",
       "      <th>ProductStandardCost_min</th>\n",
       "      <th>ProductStandardCost_sum</th>\n",
       "      <th>OrderQuantity_max</th>\n",
       "      <th>OrderQuantity_min</th>\n",
       "      <th>OrderQuantity_sum</th>\n",
       "      <th>...</th>\n",
       "      <th>(SalesAmount, sum)</th>\n",
       "      <th>(ProductStandardCost, max)</th>\n",
       "      <th>(ProductStandardCost, min)</th>\n",
       "      <th>(ProductStandardCost, sum)</th>\n",
       "      <th>(OrderQuantity, max)</th>\n",
       "      <th>(OrderQuantity, min)</th>\n",
       "      <th>(OrderQuantity, sum)</th>\n",
       "      <th>(Profit, max)</th>\n",
       "      <th>(Profit, min)</th>\n",
       "      <th>(Profit, sum)</th>\n",
       "    </tr>\n",
       "  </thead>\n",
       "  <tbody>\n",
       "    <tr>\n",
       "      <th>0</th>\n",
       "      <td>11000</td>\n",
       "      <td>3399.99</td>\n",
       "      <td>4.99</td>\n",
       "      <td>8248.99</td>\n",
       "      <td>1912.1544</td>\n",
       "      <td>1.8663</td>\n",
       "      <td>4735.2995</td>\n",
       "      <td>1</td>\n",
       "      <td>1</td>\n",
       "      <td>8</td>\n",
       "      <td>...</td>\n",
       "      <td>8248.99</td>\n",
       "      <td>1912.1544</td>\n",
       "      <td>1.8663</td>\n",
       "      <td>4735.2995</td>\n",
       "      <td>1</td>\n",
       "      <td>1</td>\n",
       "      <td>8</td>\n",
       "      <td>1487.8356</td>\n",
       "      <td>3.1237</td>\n",
       "      <td>3513.6905</td>\n",
       "    </tr>\n",
       "    <tr>\n",
       "      <th>1</th>\n",
       "      <td>11001</td>\n",
       "      <td>3374.99</td>\n",
       "      <td>4.99</td>\n",
       "      <td>6383.88</td>\n",
       "      <td>1898.0944</td>\n",
       "      <td>1.8663</td>\n",
       "      <td>3587.9961</td>\n",
       "      <td>1</td>\n",
       "      <td>1</td>\n",
       "      <td>11</td>\n",
       "      <td>...</td>\n",
       "      <td>6383.88</td>\n",
       "      <td>1898.0944</td>\n",
       "      <td>1.8663</td>\n",
       "      <td>3587.9961</td>\n",
       "      <td>1</td>\n",
       "      <td>1</td>\n",
       "      <td>11</td>\n",
       "      <td>1476.8956</td>\n",
       "      <td>2.0677</td>\n",
       "      <td>2795.8839</td>\n",
       "    </tr>\n",
       "    <tr>\n",
       "      <th>2</th>\n",
       "      <td>11002</td>\n",
       "      <td>3399.99</td>\n",
       "      <td>34.99</td>\n",
       "      <td>8114.04</td>\n",
       "      <td>1912.1544</td>\n",
       "      <td>13.0863</td>\n",
       "      <td>4659.1599</td>\n",
       "      <td>1</td>\n",
       "      <td>1</td>\n",
       "      <td>4</td>\n",
       "      <td>...</td>\n",
       "      <td>8114.04</td>\n",
       "      <td>1912.1544</td>\n",
       "      <td>13.0863</td>\n",
       "      <td>4659.1599</td>\n",
       "      <td>1</td>\n",
       "      <td>1</td>\n",
       "      <td>4</td>\n",
       "      <td>1487.8356</td>\n",
       "      <td>21.9037</td>\n",
       "      <td>3454.8801</td>\n",
       "    </tr>\n",
       "    <tr>\n",
       "      <th>3</th>\n",
       "      <td>11003</td>\n",
       "      <td>3399.99</td>\n",
       "      <td>2.29</td>\n",
       "      <td>8139.29</td>\n",
       "      <td>1912.1544</td>\n",
       "      <td>0.8565</td>\n",
       "      <td>4672.1636</td>\n",
       "      <td>1</td>\n",
       "      <td>1</td>\n",
       "      <td>9</td>\n",
       "      <td>...</td>\n",
       "      <td>8139.29</td>\n",
       "      <td>1912.1544</td>\n",
       "      <td>0.8565</td>\n",
       "      <td>4672.1636</td>\n",
       "      <td>1</td>\n",
       "      <td>1</td>\n",
       "      <td>9</td>\n",
       "      <td>1487.8356</td>\n",
       "      <td>1.4335</td>\n",
       "      <td>3467.1264</td>\n",
       "    </tr>\n",
       "    <tr>\n",
       "      <th>4</th>\n",
       "      <td>11004</td>\n",
       "      <td>3399.99</td>\n",
       "      <td>21.98</td>\n",
       "      <td>8196.01</td>\n",
       "      <td>1912.1544</td>\n",
       "      <td>8.2205</td>\n",
       "      <td>4694.1049</td>\n",
       "      <td>1</td>\n",
       "      <td>1</td>\n",
       "      <td>6</td>\n",
       "      <td>...</td>\n",
       "      <td>8196.01</td>\n",
       "      <td>1912.1544</td>\n",
       "      <td>8.2205</td>\n",
       "      <td>4694.1049</td>\n",
       "      <td>1</td>\n",
       "      <td>1</td>\n",
       "      <td>6</td>\n",
       "      <td>1487.8356</td>\n",
       "      <td>13.7595</td>\n",
       "      <td>3501.9051</td>\n",
       "    </tr>\n",
       "  </tbody>\n",
       "</table>\n",
       "<p>5 rows × 25 columns</p>\n",
       "</div>"
      ],
      "text/plain": [
       "   CustomerKey  SalesAmount_max  SalesAmount_min  SalesAmount_sum  \\\n",
       "0        11000          3399.99             4.99          8248.99   \n",
       "1        11001          3374.99             4.99          6383.88   \n",
       "2        11002          3399.99            34.99          8114.04   \n",
       "3        11003          3399.99             2.29          8139.29   \n",
       "4        11004          3399.99            21.98          8196.01   \n",
       "\n",
       "   ProductStandardCost_max  ProductStandardCost_min  ProductStandardCost_sum  \\\n",
       "0                1912.1544                   1.8663                4735.2995   \n",
       "1                1898.0944                   1.8663                3587.9961   \n",
       "2                1912.1544                  13.0863                4659.1599   \n",
       "3                1912.1544                   0.8565                4672.1636   \n",
       "4                1912.1544                   8.2205                4694.1049   \n",
       "\n",
       "   OrderQuantity_max  OrderQuantity_min  OrderQuantity_sum  ...  \\\n",
       "0                  1                  1                  8  ...   \n",
       "1                  1                  1                 11  ...   \n",
       "2                  1                  1                  4  ...   \n",
       "3                  1                  1                  9  ...   \n",
       "4                  1                  1                  6  ...   \n",
       "\n",
       "   (SalesAmount, sum)  (ProductStandardCost, max)  (ProductStandardCost, min)  \\\n",
       "0             8248.99                   1912.1544                      1.8663   \n",
       "1             6383.88                   1898.0944                      1.8663   \n",
       "2             8114.04                   1912.1544                     13.0863   \n",
       "3             8139.29                   1912.1544                      0.8565   \n",
       "4             8196.01                   1912.1544                      8.2205   \n",
       "\n",
       "   (ProductStandardCost, sum)  (OrderQuantity, max)  (OrderQuantity, min)  \\\n",
       "0                   4735.2995                     1                     1   \n",
       "1                   3587.9961                     1                     1   \n",
       "2                   4659.1599                     1                     1   \n",
       "3                   4672.1636                     1                     1   \n",
       "4                   4694.1049                     1                     1   \n",
       "\n",
       "   (OrderQuantity, sum)  (Profit, max)  (Profit, min)  (Profit, sum)  \n",
       "0                     8      1487.8356         3.1237      3513.6905  \n",
       "1                    11      1476.8956         2.0677      2795.8839  \n",
       "2                     4      1487.8356        21.9037      3454.8801  \n",
       "3                     9      1487.8356         1.4335      3467.1264  \n",
       "4                     6      1487.8356        13.7595      3501.9051  \n",
       "\n",
       "[5 rows x 25 columns]"
      ]
     },
     "execution_count": 31,
     "metadata": {},
     "output_type": "execute_result"
    }
   ],
   "source": [
    "data.head()"
   ]
  },
  {
   "cell_type": "code",
   "execution_count": 32,
   "id": "907d3016",
   "metadata": {},
   "outputs": [],
   "source": [
    "# merge qq with dimcust\n",
    "data=dtt.merge(dimCust, on=[\"CustomerKey\"])"
   ]
  },
  {
   "cell_type": "code",
   "execution_count": 33,
   "id": "864ee672",
   "metadata": {},
   "outputs": [
    {
     "data": {
      "text/html": [
       "<div>\n",
       "<style scoped>\n",
       "    .dataframe tbody tr th:only-of-type {\n",
       "        vertical-align: middle;\n",
       "    }\n",
       "\n",
       "    .dataframe tbody tr th {\n",
       "        vertical-align: top;\n",
       "    }\n",
       "\n",
       "    .dataframe thead th {\n",
       "        text-align: right;\n",
       "    }\n",
       "</style>\n",
       "<table border=\"1\" class=\"dataframe\">\n",
       "  <thead>\n",
       "    <tr style=\"text-align: right;\">\n",
       "      <th></th>\n",
       "      <th>CustomerKey</th>\n",
       "      <th>OrderDate_max</th>\n",
       "      <th>OrderDate_min</th>\n",
       "      <th>BirthDate</th>\n",
       "      <th>DateFirstPurchase</th>\n",
       "      <th>MaritalStatus</th>\n",
       "      <th>Gender</th>\n",
       "      <th>YearlyIncome</th>\n",
       "      <th>TotalChildren</th>\n",
       "      <th>NumberChildrenAtHome</th>\n",
       "      <th>EnglishEducation</th>\n",
       "      <th>EnglishOccupation</th>\n",
       "      <th>HouseOwnerFlag</th>\n",
       "      <th>NumberCarsOwned</th>\n",
       "      <th>endDate</th>\n",
       "      <th>Age</th>\n",
       "    </tr>\n",
       "  </thead>\n",
       "  <tbody>\n",
       "    <tr>\n",
       "      <th>0</th>\n",
       "      <td>11000</td>\n",
       "      <td>2013-05-03</td>\n",
       "      <td>2011-01-19</td>\n",
       "      <td>1971-10-06</td>\n",
       "      <td>2011-01-19</td>\n",
       "      <td>M</td>\n",
       "      <td>M</td>\n",
       "      <td>90000.0</td>\n",
       "      <td>2</td>\n",
       "      <td>0</td>\n",
       "      <td>Bachelors</td>\n",
       "      <td>Professional</td>\n",
       "      <td>1</td>\n",
       "      <td>0</td>\n",
       "      <td>2014-01-20</td>\n",
       "      <td>42.292450</td>\n",
       "    </tr>\n",
       "    <tr>\n",
       "      <th>1</th>\n",
       "      <td>11001</td>\n",
       "      <td>2013-12-10</td>\n",
       "      <td>2011-01-15</td>\n",
       "      <td>1976-05-10</td>\n",
       "      <td>2011-01-15</td>\n",
       "      <td>S</td>\n",
       "      <td>M</td>\n",
       "      <td>60000.0</td>\n",
       "      <td>3</td>\n",
       "      <td>3</td>\n",
       "      <td>Bachelors</td>\n",
       "      <td>Professional</td>\n",
       "      <td>0</td>\n",
       "      <td>1</td>\n",
       "      <td>2014-01-20</td>\n",
       "      <td>37.698242</td>\n",
       "    </tr>\n",
       "    <tr>\n",
       "      <th>2</th>\n",
       "      <td>11002</td>\n",
       "      <td>2013-02-23</td>\n",
       "      <td>2011-01-07</td>\n",
       "      <td>1971-02-09</td>\n",
       "      <td>2011-01-07</td>\n",
       "      <td>M</td>\n",
       "      <td>M</td>\n",
       "      <td>60000.0</td>\n",
       "      <td>3</td>\n",
       "      <td>3</td>\n",
       "      <td>Bachelors</td>\n",
       "      <td>Professional</td>\n",
       "      <td>1</td>\n",
       "      <td>1</td>\n",
       "      <td>2014-01-20</td>\n",
       "      <td>42.946809</td>\n",
       "    </tr>\n",
       "    <tr>\n",
       "      <th>3</th>\n",
       "      <td>11003</td>\n",
       "      <td>2013-05-10</td>\n",
       "      <td>2010-12-29</td>\n",
       "      <td>1973-08-14</td>\n",
       "      <td>2010-12-29</td>\n",
       "      <td>S</td>\n",
       "      <td>F</td>\n",
       "      <td>70000.0</td>\n",
       "      <td>0</td>\n",
       "      <td>0</td>\n",
       "      <td>Bachelors</td>\n",
       "      <td>Professional</td>\n",
       "      <td>0</td>\n",
       "      <td>1</td>\n",
       "      <td>2014-01-20</td>\n",
       "      <td>40.436149</td>\n",
       "    </tr>\n",
       "    <tr>\n",
       "      <th>4</th>\n",
       "      <td>11004</td>\n",
       "      <td>2013-05-01</td>\n",
       "      <td>2011-01-23</td>\n",
       "      <td>1979-08-05</td>\n",
       "      <td>2011-01-23</td>\n",
       "      <td>S</td>\n",
       "      <td>F</td>\n",
       "      <td>80000.0</td>\n",
       "      <td>5</td>\n",
       "      <td>5</td>\n",
       "      <td>Bachelors</td>\n",
       "      <td>Professional</td>\n",
       "      <td>1</td>\n",
       "      <td>4</td>\n",
       "      <td>2014-01-20</td>\n",
       "      <td>34.462035</td>\n",
       "    </tr>\n",
       "  </tbody>\n",
       "</table>\n",
       "</div>"
      ],
      "text/plain": [
       "   CustomerKey OrderDate_max OrderDate_min  BirthDate DateFirstPurchase  \\\n",
       "0        11000    2013-05-03    2011-01-19 1971-10-06        2011-01-19   \n",
       "1        11001    2013-12-10    2011-01-15 1976-05-10        2011-01-15   \n",
       "2        11002    2013-02-23    2011-01-07 1971-02-09        2011-01-07   \n",
       "3        11003    2013-05-10    2010-12-29 1973-08-14        2010-12-29   \n",
       "4        11004    2013-05-01    2011-01-23 1979-08-05        2011-01-23   \n",
       "\n",
       "  MaritalStatus Gender  YearlyIncome  TotalChildren  NumberChildrenAtHome  \\\n",
       "0             M      M       90000.0              2                     0   \n",
       "1             S      M       60000.0              3                     3   \n",
       "2             M      M       60000.0              3                     3   \n",
       "3             S      F       70000.0              0                     0   \n",
       "4             S      F       80000.0              5                     5   \n",
       "\n",
       "  EnglishEducation EnglishOccupation HouseOwnerFlag  NumberCarsOwned  \\\n",
       "0        Bachelors      Professional              1                0   \n",
       "1        Bachelors      Professional              0                1   \n",
       "2        Bachelors      Professional              1                1   \n",
       "3        Bachelors      Professional              0                1   \n",
       "4        Bachelors      Professional              1                4   \n",
       "\n",
       "     endDate        Age  \n",
       "0 2014-01-20  42.292450  \n",
       "1 2014-01-20  37.698242  \n",
       "2 2014-01-20  42.946809  \n",
       "3 2014-01-20  40.436149  \n",
       "4 2014-01-20  34.462035  "
      ]
     },
     "execution_count": 33,
     "metadata": {},
     "output_type": "execute_result"
    }
   ],
   "source": [
    "data.head()"
   ]
  },
  {
   "cell_type": "code",
   "execution_count": 34,
   "id": "505feec8",
   "metadata": {},
   "outputs": [
    {
     "data": {
      "text/plain": [
       "(18484, 16)"
      ]
     },
     "execution_count": 34,
     "metadata": {},
     "output_type": "execute_result"
    }
   ],
   "source": [
    "data.shape"
   ]
  },
  {
   "cell_type": "code",
   "execution_count": 35,
   "id": "2c939c4f",
   "metadata": {},
   "outputs": [],
   "source": [
    "#add df to the data\n",
    "df=data.merge(qq, on=[\"CustomerKey\"])"
   ]
  },
  {
   "cell_type": "code",
   "execution_count": 36,
   "id": "e84c0582",
   "metadata": {},
   "outputs": [
    {
     "data": {
      "text/html": [
       "<div>\n",
       "<style scoped>\n",
       "    .dataframe tbody tr th:only-of-type {\n",
       "        vertical-align: middle;\n",
       "    }\n",
       "\n",
       "    .dataframe tbody tr th {\n",
       "        vertical-align: top;\n",
       "    }\n",
       "\n",
       "    .dataframe thead th {\n",
       "        text-align: right;\n",
       "    }\n",
       "</style>\n",
       "<table border=\"1\" class=\"dataframe\">\n",
       "  <thead>\n",
       "    <tr style=\"text-align: right;\">\n",
       "      <th></th>\n",
       "      <th>CustomerKey</th>\n",
       "      <th>OrderDate_max</th>\n",
       "      <th>OrderDate_min</th>\n",
       "      <th>BirthDate</th>\n",
       "      <th>DateFirstPurchase</th>\n",
       "      <th>MaritalStatus</th>\n",
       "      <th>Gender</th>\n",
       "      <th>YearlyIncome</th>\n",
       "      <th>TotalChildren</th>\n",
       "      <th>NumberChildrenAtHome</th>\n",
       "      <th>...</th>\n",
       "      <th>SalesAmount_sum</th>\n",
       "      <th>ProductStandardCost_max</th>\n",
       "      <th>ProductStandardCost_min</th>\n",
       "      <th>ProductStandardCost_sum</th>\n",
       "      <th>OrderQuantity_max</th>\n",
       "      <th>OrderQuantity_min</th>\n",
       "      <th>OrderQuantity_sum</th>\n",
       "      <th>Profit_max</th>\n",
       "      <th>Profit_min</th>\n",
       "      <th>Profit_sum</th>\n",
       "    </tr>\n",
       "  </thead>\n",
       "  <tbody>\n",
       "    <tr>\n",
       "      <th>0</th>\n",
       "      <td>11000</td>\n",
       "      <td>2013-05-03</td>\n",
       "      <td>2011-01-19</td>\n",
       "      <td>1971-10-06</td>\n",
       "      <td>2011-01-19</td>\n",
       "      <td>M</td>\n",
       "      <td>M</td>\n",
       "      <td>90000.0</td>\n",
       "      <td>2</td>\n",
       "      <td>0</td>\n",
       "      <td>...</td>\n",
       "      <td>8248.99</td>\n",
       "      <td>1912.1544</td>\n",
       "      <td>1.8663</td>\n",
       "      <td>4735.2995</td>\n",
       "      <td>1</td>\n",
       "      <td>1</td>\n",
       "      <td>8</td>\n",
       "      <td>1487.8356</td>\n",
       "      <td>3.1237</td>\n",
       "      <td>3513.6905</td>\n",
       "    </tr>\n",
       "    <tr>\n",
       "      <th>1</th>\n",
       "      <td>11001</td>\n",
       "      <td>2013-12-10</td>\n",
       "      <td>2011-01-15</td>\n",
       "      <td>1976-05-10</td>\n",
       "      <td>2011-01-15</td>\n",
       "      <td>S</td>\n",
       "      <td>M</td>\n",
       "      <td>60000.0</td>\n",
       "      <td>3</td>\n",
       "      <td>3</td>\n",
       "      <td>...</td>\n",
       "      <td>6383.88</td>\n",
       "      <td>1898.0944</td>\n",
       "      <td>1.8663</td>\n",
       "      <td>3587.9961</td>\n",
       "      <td>1</td>\n",
       "      <td>1</td>\n",
       "      <td>11</td>\n",
       "      <td>1476.8956</td>\n",
       "      <td>2.0677</td>\n",
       "      <td>2795.8839</td>\n",
       "    </tr>\n",
       "    <tr>\n",
       "      <th>2</th>\n",
       "      <td>11002</td>\n",
       "      <td>2013-02-23</td>\n",
       "      <td>2011-01-07</td>\n",
       "      <td>1971-02-09</td>\n",
       "      <td>2011-01-07</td>\n",
       "      <td>M</td>\n",
       "      <td>M</td>\n",
       "      <td>60000.0</td>\n",
       "      <td>3</td>\n",
       "      <td>3</td>\n",
       "      <td>...</td>\n",
       "      <td>8114.04</td>\n",
       "      <td>1912.1544</td>\n",
       "      <td>13.0863</td>\n",
       "      <td>4659.1599</td>\n",
       "      <td>1</td>\n",
       "      <td>1</td>\n",
       "      <td>4</td>\n",
       "      <td>1487.8356</td>\n",
       "      <td>21.9037</td>\n",
       "      <td>3454.8801</td>\n",
       "    </tr>\n",
       "    <tr>\n",
       "      <th>3</th>\n",
       "      <td>11003</td>\n",
       "      <td>2013-05-10</td>\n",
       "      <td>2010-12-29</td>\n",
       "      <td>1973-08-14</td>\n",
       "      <td>2010-12-29</td>\n",
       "      <td>S</td>\n",
       "      <td>F</td>\n",
       "      <td>70000.0</td>\n",
       "      <td>0</td>\n",
       "      <td>0</td>\n",
       "      <td>...</td>\n",
       "      <td>8139.29</td>\n",
       "      <td>1912.1544</td>\n",
       "      <td>0.8565</td>\n",
       "      <td>4672.1636</td>\n",
       "      <td>1</td>\n",
       "      <td>1</td>\n",
       "      <td>9</td>\n",
       "      <td>1487.8356</td>\n",
       "      <td>1.4335</td>\n",
       "      <td>3467.1264</td>\n",
       "    </tr>\n",
       "    <tr>\n",
       "      <th>4</th>\n",
       "      <td>11004</td>\n",
       "      <td>2013-05-01</td>\n",
       "      <td>2011-01-23</td>\n",
       "      <td>1979-08-05</td>\n",
       "      <td>2011-01-23</td>\n",
       "      <td>S</td>\n",
       "      <td>F</td>\n",
       "      <td>80000.0</td>\n",
       "      <td>5</td>\n",
       "      <td>5</td>\n",
       "      <td>...</td>\n",
       "      <td>8196.01</td>\n",
       "      <td>1912.1544</td>\n",
       "      <td>8.2205</td>\n",
       "      <td>4694.1049</td>\n",
       "      <td>1</td>\n",
       "      <td>1</td>\n",
       "      <td>6</td>\n",
       "      <td>1487.8356</td>\n",
       "      <td>13.7595</td>\n",
       "      <td>3501.9051</td>\n",
       "    </tr>\n",
       "  </tbody>\n",
       "</table>\n",
       "<p>5 rows × 28 columns</p>\n",
       "</div>"
      ],
      "text/plain": [
       "   CustomerKey OrderDate_max OrderDate_min  BirthDate DateFirstPurchase  \\\n",
       "0        11000    2013-05-03    2011-01-19 1971-10-06        2011-01-19   \n",
       "1        11001    2013-12-10    2011-01-15 1976-05-10        2011-01-15   \n",
       "2        11002    2013-02-23    2011-01-07 1971-02-09        2011-01-07   \n",
       "3        11003    2013-05-10    2010-12-29 1973-08-14        2010-12-29   \n",
       "4        11004    2013-05-01    2011-01-23 1979-08-05        2011-01-23   \n",
       "\n",
       "  MaritalStatus Gender  YearlyIncome  TotalChildren  NumberChildrenAtHome  \\\n",
       "0             M      M       90000.0              2                     0   \n",
       "1             S      M       60000.0              3                     3   \n",
       "2             M      M       60000.0              3                     3   \n",
       "3             S      F       70000.0              0                     0   \n",
       "4             S      F       80000.0              5                     5   \n",
       "\n",
       "   ... SalesAmount_sum ProductStandardCost_max ProductStandardCost_min  \\\n",
       "0  ...         8248.99               1912.1544                  1.8663   \n",
       "1  ...         6383.88               1898.0944                  1.8663   \n",
       "2  ...         8114.04               1912.1544                 13.0863   \n",
       "3  ...         8139.29               1912.1544                  0.8565   \n",
       "4  ...         8196.01               1912.1544                  8.2205   \n",
       "\n",
       "   ProductStandardCost_sum OrderQuantity_max  OrderQuantity_min  \\\n",
       "0                4735.2995                 1                  1   \n",
       "1                3587.9961                 1                  1   \n",
       "2                4659.1599                 1                  1   \n",
       "3                4672.1636                 1                  1   \n",
       "4                4694.1049                 1                  1   \n",
       "\n",
       "   OrderQuantity_sum  Profit_max  Profit_min  Profit_sum  \n",
       "0                  8   1487.8356      3.1237   3513.6905  \n",
       "1                 11   1476.8956      2.0677   2795.8839  \n",
       "2                  4   1487.8356     21.9037   3454.8801  \n",
       "3                  9   1487.8356      1.4335   3467.1264  \n",
       "4                  6   1487.8356     13.7595   3501.9051  \n",
       "\n",
       "[5 rows x 28 columns]"
      ]
     },
     "execution_count": 36,
     "metadata": {},
     "output_type": "execute_result"
    }
   ],
   "source": [
    "df.head()"
   ]
  },
  {
   "cell_type": "code",
   "execution_count": 37,
   "id": "04d3e754",
   "metadata": {},
   "outputs": [
    {
     "data": {
      "text/plain": [
       "Index(['CustomerKey', 'OrderDate_max', 'OrderDate_min', 'BirthDate',\n",
       "       'DateFirstPurchase', 'MaritalStatus', 'Gender', 'YearlyIncome',\n",
       "       'TotalChildren', 'NumberChildrenAtHome', 'EnglishEducation',\n",
       "       'EnglishOccupation', 'HouseOwnerFlag', 'NumberCarsOwned', 'endDate',\n",
       "       'Age', 'SalesAmount_max', 'SalesAmount_min', 'SalesAmount_sum',\n",
       "       'ProductStandardCost_max', 'ProductStandardCost_min',\n",
       "       'ProductStandardCost_sum', 'OrderQuantity_max', 'OrderQuantity_min',\n",
       "       'OrderQuantity_sum', 'Profit_max', 'Profit_min', 'Profit_sum'],\n",
       "      dtype='object')"
      ]
     },
     "execution_count": 37,
     "metadata": {},
     "output_type": "execute_result"
    }
   ],
   "source": [
    "df.columns"
   ]
  },
  {
   "cell_type": "code",
   "execution_count": 38,
   "id": "9f2a4ca3",
   "metadata": {},
   "outputs": [],
   "source": [
    "#calculate tenure, convert to datetime\n",
    "df[\"Ternure\"]=df['OrderDate_max']-df['DateFirstPurchase']\n",
    "df['Ternure']=df['Ternure']/np.timedelta64(1,'D')"
   ]
  },
  {
   "cell_type": "code",
   "execution_count": 39,
   "id": "fe8bfa64",
   "metadata": {},
   "outputs": [
    {
     "data": {
      "text/html": [
       "<div>\n",
       "<style scoped>\n",
       "    .dataframe tbody tr th:only-of-type {\n",
       "        vertical-align: middle;\n",
       "    }\n",
       "\n",
       "    .dataframe tbody tr th {\n",
       "        vertical-align: top;\n",
       "    }\n",
       "\n",
       "    .dataframe thead th {\n",
       "        text-align: right;\n",
       "    }\n",
       "</style>\n",
       "<table border=\"1\" class=\"dataframe\">\n",
       "  <thead>\n",
       "    <tr style=\"text-align: right;\">\n",
       "      <th></th>\n",
       "      <th>CustomerKey</th>\n",
       "      <th>OrderDate_max</th>\n",
       "      <th>OrderDate_min</th>\n",
       "      <th>BirthDate</th>\n",
       "      <th>DateFirstPurchase</th>\n",
       "      <th>MaritalStatus</th>\n",
       "      <th>Gender</th>\n",
       "      <th>YearlyIncome</th>\n",
       "      <th>TotalChildren</th>\n",
       "      <th>NumberChildrenAtHome</th>\n",
       "      <th>...</th>\n",
       "      <th>ProductStandardCost_max</th>\n",
       "      <th>ProductStandardCost_min</th>\n",
       "      <th>ProductStandardCost_sum</th>\n",
       "      <th>OrderQuantity_max</th>\n",
       "      <th>OrderQuantity_min</th>\n",
       "      <th>OrderQuantity_sum</th>\n",
       "      <th>Profit_max</th>\n",
       "      <th>Profit_min</th>\n",
       "      <th>Profit_sum</th>\n",
       "      <th>Ternure</th>\n",
       "    </tr>\n",
       "  </thead>\n",
       "  <tbody>\n",
       "    <tr>\n",
       "      <th>0</th>\n",
       "      <td>11000</td>\n",
       "      <td>2013-05-03</td>\n",
       "      <td>2011-01-19</td>\n",
       "      <td>1971-10-06</td>\n",
       "      <td>2011-01-19</td>\n",
       "      <td>M</td>\n",
       "      <td>M</td>\n",
       "      <td>90000.0</td>\n",
       "      <td>2</td>\n",
       "      <td>0</td>\n",
       "      <td>...</td>\n",
       "      <td>1912.1544</td>\n",
       "      <td>1.8663</td>\n",
       "      <td>4735.2995</td>\n",
       "      <td>1</td>\n",
       "      <td>1</td>\n",
       "      <td>8</td>\n",
       "      <td>1487.8356</td>\n",
       "      <td>3.1237</td>\n",
       "      <td>3513.6905</td>\n",
       "      <td>835.0</td>\n",
       "    </tr>\n",
       "    <tr>\n",
       "      <th>1</th>\n",
       "      <td>11001</td>\n",
       "      <td>2013-12-10</td>\n",
       "      <td>2011-01-15</td>\n",
       "      <td>1976-05-10</td>\n",
       "      <td>2011-01-15</td>\n",
       "      <td>S</td>\n",
       "      <td>M</td>\n",
       "      <td>60000.0</td>\n",
       "      <td>3</td>\n",
       "      <td>3</td>\n",
       "      <td>...</td>\n",
       "      <td>1898.0944</td>\n",
       "      <td>1.8663</td>\n",
       "      <td>3587.9961</td>\n",
       "      <td>1</td>\n",
       "      <td>1</td>\n",
       "      <td>11</td>\n",
       "      <td>1476.8956</td>\n",
       "      <td>2.0677</td>\n",
       "      <td>2795.8839</td>\n",
       "      <td>1060.0</td>\n",
       "    </tr>\n",
       "    <tr>\n",
       "      <th>2</th>\n",
       "      <td>11002</td>\n",
       "      <td>2013-02-23</td>\n",
       "      <td>2011-01-07</td>\n",
       "      <td>1971-02-09</td>\n",
       "      <td>2011-01-07</td>\n",
       "      <td>M</td>\n",
       "      <td>M</td>\n",
       "      <td>60000.0</td>\n",
       "      <td>3</td>\n",
       "      <td>3</td>\n",
       "      <td>...</td>\n",
       "      <td>1912.1544</td>\n",
       "      <td>13.0863</td>\n",
       "      <td>4659.1599</td>\n",
       "      <td>1</td>\n",
       "      <td>1</td>\n",
       "      <td>4</td>\n",
       "      <td>1487.8356</td>\n",
       "      <td>21.9037</td>\n",
       "      <td>3454.8801</td>\n",
       "      <td>778.0</td>\n",
       "    </tr>\n",
       "    <tr>\n",
       "      <th>3</th>\n",
       "      <td>11003</td>\n",
       "      <td>2013-05-10</td>\n",
       "      <td>2010-12-29</td>\n",
       "      <td>1973-08-14</td>\n",
       "      <td>2010-12-29</td>\n",
       "      <td>S</td>\n",
       "      <td>F</td>\n",
       "      <td>70000.0</td>\n",
       "      <td>0</td>\n",
       "      <td>0</td>\n",
       "      <td>...</td>\n",
       "      <td>1912.1544</td>\n",
       "      <td>0.8565</td>\n",
       "      <td>4672.1636</td>\n",
       "      <td>1</td>\n",
       "      <td>1</td>\n",
       "      <td>9</td>\n",
       "      <td>1487.8356</td>\n",
       "      <td>1.4335</td>\n",
       "      <td>3467.1264</td>\n",
       "      <td>863.0</td>\n",
       "    </tr>\n",
       "    <tr>\n",
       "      <th>4</th>\n",
       "      <td>11004</td>\n",
       "      <td>2013-05-01</td>\n",
       "      <td>2011-01-23</td>\n",
       "      <td>1979-08-05</td>\n",
       "      <td>2011-01-23</td>\n",
       "      <td>S</td>\n",
       "      <td>F</td>\n",
       "      <td>80000.0</td>\n",
       "      <td>5</td>\n",
       "      <td>5</td>\n",
       "      <td>...</td>\n",
       "      <td>1912.1544</td>\n",
       "      <td>8.2205</td>\n",
       "      <td>4694.1049</td>\n",
       "      <td>1</td>\n",
       "      <td>1</td>\n",
       "      <td>6</td>\n",
       "      <td>1487.8356</td>\n",
       "      <td>13.7595</td>\n",
       "      <td>3501.9051</td>\n",
       "      <td>829.0</td>\n",
       "    </tr>\n",
       "  </tbody>\n",
       "</table>\n",
       "<p>5 rows × 29 columns</p>\n",
       "</div>"
      ],
      "text/plain": [
       "   CustomerKey OrderDate_max OrderDate_min  BirthDate DateFirstPurchase  \\\n",
       "0        11000    2013-05-03    2011-01-19 1971-10-06        2011-01-19   \n",
       "1        11001    2013-12-10    2011-01-15 1976-05-10        2011-01-15   \n",
       "2        11002    2013-02-23    2011-01-07 1971-02-09        2011-01-07   \n",
       "3        11003    2013-05-10    2010-12-29 1973-08-14        2010-12-29   \n",
       "4        11004    2013-05-01    2011-01-23 1979-08-05        2011-01-23   \n",
       "\n",
       "  MaritalStatus Gender  YearlyIncome  TotalChildren  NumberChildrenAtHome  \\\n",
       "0             M      M       90000.0              2                     0   \n",
       "1             S      M       60000.0              3                     3   \n",
       "2             M      M       60000.0              3                     3   \n",
       "3             S      F       70000.0              0                     0   \n",
       "4             S      F       80000.0              5                     5   \n",
       "\n",
       "   ... ProductStandardCost_max ProductStandardCost_min  \\\n",
       "0  ...               1912.1544                  1.8663   \n",
       "1  ...               1898.0944                  1.8663   \n",
       "2  ...               1912.1544                 13.0863   \n",
       "3  ...               1912.1544                  0.8565   \n",
       "4  ...               1912.1544                  8.2205   \n",
       "\n",
       "  ProductStandardCost_sum  OrderQuantity_max OrderQuantity_min  \\\n",
       "0               4735.2995                  1                 1   \n",
       "1               3587.9961                  1                 1   \n",
       "2               4659.1599                  1                 1   \n",
       "3               4672.1636                  1                 1   \n",
       "4               4694.1049                  1                 1   \n",
       "\n",
       "   OrderQuantity_sum  Profit_max  Profit_min  Profit_sum  Ternure  \n",
       "0                  8   1487.8356      3.1237   3513.6905    835.0  \n",
       "1                 11   1476.8956      2.0677   2795.8839   1060.0  \n",
       "2                  4   1487.8356     21.9037   3454.8801    778.0  \n",
       "3                  9   1487.8356      1.4335   3467.1264    863.0  \n",
       "4                  6   1487.8356     13.7595   3501.9051    829.0  \n",
       "\n",
       "[5 rows x 29 columns]"
      ]
     },
     "execution_count": 39,
     "metadata": {},
     "output_type": "execute_result"
    }
   ],
   "source": [
    "df.head()"
   ]
  },
  {
   "cell_type": "code",
   "execution_count": 40,
   "id": "3b93850f",
   "metadata": {},
   "outputs": [
    {
     "data": {
      "text/plain": [
       "Index(['CustomerKey', 'OrderDate_max', 'OrderDate_min', 'BirthDate',\n",
       "       'DateFirstPurchase', 'MaritalStatus', 'Gender', 'YearlyIncome',\n",
       "       'TotalChildren', 'NumberChildrenAtHome', 'EnglishEducation',\n",
       "       'EnglishOccupation', 'HouseOwnerFlag', 'NumberCarsOwned', 'endDate',\n",
       "       'Age', 'SalesAmount_max', 'SalesAmount_min', 'SalesAmount_sum',\n",
       "       'ProductStandardCost_max', 'ProductStandardCost_min',\n",
       "       'ProductStandardCost_sum', 'OrderQuantity_max', 'OrderQuantity_min',\n",
       "       'OrderQuantity_sum', 'Profit_max', 'Profit_min', 'Profit_sum',\n",
       "       'Ternure'],\n",
       "      dtype='object')"
      ]
     },
     "execution_count": 40,
     "metadata": {},
     "output_type": "execute_result"
    }
   ],
   "source": [
    "df.columns"
   ]
  },
  {
   "cell_type": "code",
   "execution_count": 41,
   "id": "4d95db78",
   "metadata": {},
   "outputs": [],
   "source": [
    "#calculate last time they used AHG\n",
    "df[\"SincelastUsed\"]=df['endDate']-data['OrderDate_max']\n",
    "df['SincelastUsed']=df['SincelastUsed']/np.timedelta64(1,'D')"
   ]
  },
  {
   "cell_type": "code",
   "execution_count": 42,
   "id": "a4450375",
   "metadata": {},
   "outputs": [
    {
     "data": {
      "text/html": [
       "<div>\n",
       "<style scoped>\n",
       "    .dataframe tbody tr th:only-of-type {\n",
       "        vertical-align: middle;\n",
       "    }\n",
       "\n",
       "    .dataframe tbody tr th {\n",
       "        vertical-align: top;\n",
       "    }\n",
       "\n",
       "    .dataframe thead th {\n",
       "        text-align: right;\n",
       "    }\n",
       "</style>\n",
       "<table border=\"1\" class=\"dataframe\">\n",
       "  <thead>\n",
       "    <tr style=\"text-align: right;\">\n",
       "      <th></th>\n",
       "      <th>CustomerKey</th>\n",
       "      <th>OrderDate_max</th>\n",
       "      <th>OrderDate_min</th>\n",
       "      <th>BirthDate</th>\n",
       "      <th>DateFirstPurchase</th>\n",
       "      <th>MaritalStatus</th>\n",
       "      <th>Gender</th>\n",
       "      <th>YearlyIncome</th>\n",
       "      <th>TotalChildren</th>\n",
       "      <th>NumberChildrenAtHome</th>\n",
       "      <th>...</th>\n",
       "      <th>ProductStandardCost_min</th>\n",
       "      <th>ProductStandardCost_sum</th>\n",
       "      <th>OrderQuantity_max</th>\n",
       "      <th>OrderQuantity_min</th>\n",
       "      <th>OrderQuantity_sum</th>\n",
       "      <th>Profit_max</th>\n",
       "      <th>Profit_min</th>\n",
       "      <th>Profit_sum</th>\n",
       "      <th>Ternure</th>\n",
       "      <th>SincelastUsed</th>\n",
       "    </tr>\n",
       "  </thead>\n",
       "  <tbody>\n",
       "    <tr>\n",
       "      <th>0</th>\n",
       "      <td>11000</td>\n",
       "      <td>2013-05-03</td>\n",
       "      <td>2011-01-19</td>\n",
       "      <td>1971-10-06</td>\n",
       "      <td>2011-01-19</td>\n",
       "      <td>M</td>\n",
       "      <td>M</td>\n",
       "      <td>90000.0</td>\n",
       "      <td>2</td>\n",
       "      <td>0</td>\n",
       "      <td>...</td>\n",
       "      <td>1.8663</td>\n",
       "      <td>4735.2995</td>\n",
       "      <td>1</td>\n",
       "      <td>1</td>\n",
       "      <td>8</td>\n",
       "      <td>1487.8356</td>\n",
       "      <td>3.1237</td>\n",
       "      <td>3513.6905</td>\n",
       "      <td>835.0</td>\n",
       "      <td>262.0</td>\n",
       "    </tr>\n",
       "    <tr>\n",
       "      <th>1</th>\n",
       "      <td>11001</td>\n",
       "      <td>2013-12-10</td>\n",
       "      <td>2011-01-15</td>\n",
       "      <td>1976-05-10</td>\n",
       "      <td>2011-01-15</td>\n",
       "      <td>S</td>\n",
       "      <td>M</td>\n",
       "      <td>60000.0</td>\n",
       "      <td>3</td>\n",
       "      <td>3</td>\n",
       "      <td>...</td>\n",
       "      <td>1.8663</td>\n",
       "      <td>3587.9961</td>\n",
       "      <td>1</td>\n",
       "      <td>1</td>\n",
       "      <td>11</td>\n",
       "      <td>1476.8956</td>\n",
       "      <td>2.0677</td>\n",
       "      <td>2795.8839</td>\n",
       "      <td>1060.0</td>\n",
       "      <td>41.0</td>\n",
       "    </tr>\n",
       "    <tr>\n",
       "      <th>2</th>\n",
       "      <td>11002</td>\n",
       "      <td>2013-02-23</td>\n",
       "      <td>2011-01-07</td>\n",
       "      <td>1971-02-09</td>\n",
       "      <td>2011-01-07</td>\n",
       "      <td>M</td>\n",
       "      <td>M</td>\n",
       "      <td>60000.0</td>\n",
       "      <td>3</td>\n",
       "      <td>3</td>\n",
       "      <td>...</td>\n",
       "      <td>13.0863</td>\n",
       "      <td>4659.1599</td>\n",
       "      <td>1</td>\n",
       "      <td>1</td>\n",
       "      <td>4</td>\n",
       "      <td>1487.8356</td>\n",
       "      <td>21.9037</td>\n",
       "      <td>3454.8801</td>\n",
       "      <td>778.0</td>\n",
       "      <td>331.0</td>\n",
       "    </tr>\n",
       "    <tr>\n",
       "      <th>3</th>\n",
       "      <td>11003</td>\n",
       "      <td>2013-05-10</td>\n",
       "      <td>2010-12-29</td>\n",
       "      <td>1973-08-14</td>\n",
       "      <td>2010-12-29</td>\n",
       "      <td>S</td>\n",
       "      <td>F</td>\n",
       "      <td>70000.0</td>\n",
       "      <td>0</td>\n",
       "      <td>0</td>\n",
       "      <td>...</td>\n",
       "      <td>0.8565</td>\n",
       "      <td>4672.1636</td>\n",
       "      <td>1</td>\n",
       "      <td>1</td>\n",
       "      <td>9</td>\n",
       "      <td>1487.8356</td>\n",
       "      <td>1.4335</td>\n",
       "      <td>3467.1264</td>\n",
       "      <td>863.0</td>\n",
       "      <td>255.0</td>\n",
       "    </tr>\n",
       "    <tr>\n",
       "      <th>4</th>\n",
       "      <td>11004</td>\n",
       "      <td>2013-05-01</td>\n",
       "      <td>2011-01-23</td>\n",
       "      <td>1979-08-05</td>\n",
       "      <td>2011-01-23</td>\n",
       "      <td>S</td>\n",
       "      <td>F</td>\n",
       "      <td>80000.0</td>\n",
       "      <td>5</td>\n",
       "      <td>5</td>\n",
       "      <td>...</td>\n",
       "      <td>8.2205</td>\n",
       "      <td>4694.1049</td>\n",
       "      <td>1</td>\n",
       "      <td>1</td>\n",
       "      <td>6</td>\n",
       "      <td>1487.8356</td>\n",
       "      <td>13.7595</td>\n",
       "      <td>3501.9051</td>\n",
       "      <td>829.0</td>\n",
       "      <td>264.0</td>\n",
       "    </tr>\n",
       "  </tbody>\n",
       "</table>\n",
       "<p>5 rows × 30 columns</p>\n",
       "</div>"
      ],
      "text/plain": [
       "   CustomerKey OrderDate_max OrderDate_min  BirthDate DateFirstPurchase  \\\n",
       "0        11000    2013-05-03    2011-01-19 1971-10-06        2011-01-19   \n",
       "1        11001    2013-12-10    2011-01-15 1976-05-10        2011-01-15   \n",
       "2        11002    2013-02-23    2011-01-07 1971-02-09        2011-01-07   \n",
       "3        11003    2013-05-10    2010-12-29 1973-08-14        2010-12-29   \n",
       "4        11004    2013-05-01    2011-01-23 1979-08-05        2011-01-23   \n",
       "\n",
       "  MaritalStatus Gender  YearlyIncome  TotalChildren  NumberChildrenAtHome  \\\n",
       "0             M      M       90000.0              2                     0   \n",
       "1             S      M       60000.0              3                     3   \n",
       "2             M      M       60000.0              3                     3   \n",
       "3             S      F       70000.0              0                     0   \n",
       "4             S      F       80000.0              5                     5   \n",
       "\n",
       "   ... ProductStandardCost_min ProductStandardCost_sum OrderQuantity_max  \\\n",
       "0  ...                  1.8663               4735.2995                 1   \n",
       "1  ...                  1.8663               3587.9961                 1   \n",
       "2  ...                 13.0863               4659.1599                 1   \n",
       "3  ...                  0.8565               4672.1636                 1   \n",
       "4  ...                  8.2205               4694.1049                 1   \n",
       "\n",
       "   OrderQuantity_min OrderQuantity_sum  Profit_max  Profit_min  Profit_sum  \\\n",
       "0                  1                 8   1487.8356      3.1237   3513.6905   \n",
       "1                  1                11   1476.8956      2.0677   2795.8839   \n",
       "2                  1                 4   1487.8356     21.9037   3454.8801   \n",
       "3                  1                 9   1487.8356      1.4335   3467.1264   \n",
       "4                  1                 6   1487.8356     13.7595   3501.9051   \n",
       "\n",
       "   Ternure  SincelastUsed  \n",
       "0    835.0          262.0  \n",
       "1   1060.0           41.0  \n",
       "2    778.0          331.0  \n",
       "3    863.0          255.0  \n",
       "4    829.0          264.0  \n",
       "\n",
       "[5 rows x 30 columns]"
      ]
     },
     "execution_count": 42,
     "metadata": {},
     "output_type": "execute_result"
    }
   ],
   "source": [
    "df.head()"
   ]
  },
  {
   "cell_type": "code",
   "execution_count": 43,
   "id": "5fb40d5d",
   "metadata": {},
   "outputs": [],
   "source": [
    "#calculate churn, if more than 8months, 1, else 0\n",
    "df[\"Churn\"]=np.where(df['SincelastUsed']>=240, 1, 0)"
   ]
  },
  {
   "cell_type": "code",
   "execution_count": 44,
   "id": "de5354b1",
   "metadata": {},
   "outputs": [
    {
     "data": {
      "text/html": [
       "<div>\n",
       "<style scoped>\n",
       "    .dataframe tbody tr th:only-of-type {\n",
       "        vertical-align: middle;\n",
       "    }\n",
       "\n",
       "    .dataframe tbody tr th {\n",
       "        vertical-align: top;\n",
       "    }\n",
       "\n",
       "    .dataframe thead th {\n",
       "        text-align: right;\n",
       "    }\n",
       "</style>\n",
       "<table border=\"1\" class=\"dataframe\">\n",
       "  <thead>\n",
       "    <tr style=\"text-align: right;\">\n",
       "      <th></th>\n",
       "      <th>CustomerKey</th>\n",
       "      <th>OrderDate_max</th>\n",
       "      <th>OrderDate_min</th>\n",
       "      <th>BirthDate</th>\n",
       "      <th>DateFirstPurchase</th>\n",
       "      <th>MaritalStatus</th>\n",
       "      <th>Gender</th>\n",
       "      <th>YearlyIncome</th>\n",
       "      <th>TotalChildren</th>\n",
       "      <th>NumberChildrenAtHome</th>\n",
       "      <th>...</th>\n",
       "      <th>ProductStandardCost_sum</th>\n",
       "      <th>OrderQuantity_max</th>\n",
       "      <th>OrderQuantity_min</th>\n",
       "      <th>OrderQuantity_sum</th>\n",
       "      <th>Profit_max</th>\n",
       "      <th>Profit_min</th>\n",
       "      <th>Profit_sum</th>\n",
       "      <th>Ternure</th>\n",
       "      <th>SincelastUsed</th>\n",
       "      <th>Churn</th>\n",
       "    </tr>\n",
       "  </thead>\n",
       "  <tbody>\n",
       "    <tr>\n",
       "      <th>0</th>\n",
       "      <td>11000</td>\n",
       "      <td>2013-05-03</td>\n",
       "      <td>2011-01-19</td>\n",
       "      <td>1971-10-06</td>\n",
       "      <td>2011-01-19</td>\n",
       "      <td>M</td>\n",
       "      <td>M</td>\n",
       "      <td>90000.0</td>\n",
       "      <td>2</td>\n",
       "      <td>0</td>\n",
       "      <td>...</td>\n",
       "      <td>4735.2995</td>\n",
       "      <td>1</td>\n",
       "      <td>1</td>\n",
       "      <td>8</td>\n",
       "      <td>1487.8356</td>\n",
       "      <td>3.1237</td>\n",
       "      <td>3513.6905</td>\n",
       "      <td>835.0</td>\n",
       "      <td>262.0</td>\n",
       "      <td>1</td>\n",
       "    </tr>\n",
       "    <tr>\n",
       "      <th>1</th>\n",
       "      <td>11001</td>\n",
       "      <td>2013-12-10</td>\n",
       "      <td>2011-01-15</td>\n",
       "      <td>1976-05-10</td>\n",
       "      <td>2011-01-15</td>\n",
       "      <td>S</td>\n",
       "      <td>M</td>\n",
       "      <td>60000.0</td>\n",
       "      <td>3</td>\n",
       "      <td>3</td>\n",
       "      <td>...</td>\n",
       "      <td>3587.9961</td>\n",
       "      <td>1</td>\n",
       "      <td>1</td>\n",
       "      <td>11</td>\n",
       "      <td>1476.8956</td>\n",
       "      <td>2.0677</td>\n",
       "      <td>2795.8839</td>\n",
       "      <td>1060.0</td>\n",
       "      <td>41.0</td>\n",
       "      <td>0</td>\n",
       "    </tr>\n",
       "    <tr>\n",
       "      <th>2</th>\n",
       "      <td>11002</td>\n",
       "      <td>2013-02-23</td>\n",
       "      <td>2011-01-07</td>\n",
       "      <td>1971-02-09</td>\n",
       "      <td>2011-01-07</td>\n",
       "      <td>M</td>\n",
       "      <td>M</td>\n",
       "      <td>60000.0</td>\n",
       "      <td>3</td>\n",
       "      <td>3</td>\n",
       "      <td>...</td>\n",
       "      <td>4659.1599</td>\n",
       "      <td>1</td>\n",
       "      <td>1</td>\n",
       "      <td>4</td>\n",
       "      <td>1487.8356</td>\n",
       "      <td>21.9037</td>\n",
       "      <td>3454.8801</td>\n",
       "      <td>778.0</td>\n",
       "      <td>331.0</td>\n",
       "      <td>1</td>\n",
       "    </tr>\n",
       "    <tr>\n",
       "      <th>3</th>\n",
       "      <td>11003</td>\n",
       "      <td>2013-05-10</td>\n",
       "      <td>2010-12-29</td>\n",
       "      <td>1973-08-14</td>\n",
       "      <td>2010-12-29</td>\n",
       "      <td>S</td>\n",
       "      <td>F</td>\n",
       "      <td>70000.0</td>\n",
       "      <td>0</td>\n",
       "      <td>0</td>\n",
       "      <td>...</td>\n",
       "      <td>4672.1636</td>\n",
       "      <td>1</td>\n",
       "      <td>1</td>\n",
       "      <td>9</td>\n",
       "      <td>1487.8356</td>\n",
       "      <td>1.4335</td>\n",
       "      <td>3467.1264</td>\n",
       "      <td>863.0</td>\n",
       "      <td>255.0</td>\n",
       "      <td>1</td>\n",
       "    </tr>\n",
       "    <tr>\n",
       "      <th>4</th>\n",
       "      <td>11004</td>\n",
       "      <td>2013-05-01</td>\n",
       "      <td>2011-01-23</td>\n",
       "      <td>1979-08-05</td>\n",
       "      <td>2011-01-23</td>\n",
       "      <td>S</td>\n",
       "      <td>F</td>\n",
       "      <td>80000.0</td>\n",
       "      <td>5</td>\n",
       "      <td>5</td>\n",
       "      <td>...</td>\n",
       "      <td>4694.1049</td>\n",
       "      <td>1</td>\n",
       "      <td>1</td>\n",
       "      <td>6</td>\n",
       "      <td>1487.8356</td>\n",
       "      <td>13.7595</td>\n",
       "      <td>3501.9051</td>\n",
       "      <td>829.0</td>\n",
       "      <td>264.0</td>\n",
       "      <td>1</td>\n",
       "    </tr>\n",
       "  </tbody>\n",
       "</table>\n",
       "<p>5 rows × 31 columns</p>\n",
       "</div>"
      ],
      "text/plain": [
       "   CustomerKey OrderDate_max OrderDate_min  BirthDate DateFirstPurchase  \\\n",
       "0        11000    2013-05-03    2011-01-19 1971-10-06        2011-01-19   \n",
       "1        11001    2013-12-10    2011-01-15 1976-05-10        2011-01-15   \n",
       "2        11002    2013-02-23    2011-01-07 1971-02-09        2011-01-07   \n",
       "3        11003    2013-05-10    2010-12-29 1973-08-14        2010-12-29   \n",
       "4        11004    2013-05-01    2011-01-23 1979-08-05        2011-01-23   \n",
       "\n",
       "  MaritalStatus Gender  YearlyIncome  TotalChildren  NumberChildrenAtHome  \\\n",
       "0             M      M       90000.0              2                     0   \n",
       "1             S      M       60000.0              3                     3   \n",
       "2             M      M       60000.0              3                     3   \n",
       "3             S      F       70000.0              0                     0   \n",
       "4             S      F       80000.0              5                     5   \n",
       "\n",
       "   ... ProductStandardCost_sum OrderQuantity_max OrderQuantity_min  \\\n",
       "0  ...               4735.2995                 1                 1   \n",
       "1  ...               3587.9961                 1                 1   \n",
       "2  ...               4659.1599                 1                 1   \n",
       "3  ...               4672.1636                 1                 1   \n",
       "4  ...               4694.1049                 1                 1   \n",
       "\n",
       "   OrderQuantity_sum Profit_max  Profit_min  Profit_sum  Ternure  \\\n",
       "0                  8  1487.8356      3.1237   3513.6905    835.0   \n",
       "1                 11  1476.8956      2.0677   2795.8839   1060.0   \n",
       "2                  4  1487.8356     21.9037   3454.8801    778.0   \n",
       "3                  9  1487.8356      1.4335   3467.1264    863.0   \n",
       "4                  6  1487.8356     13.7595   3501.9051    829.0   \n",
       "\n",
       "   SincelastUsed  Churn  \n",
       "0          262.0      1  \n",
       "1           41.0      0  \n",
       "2          331.0      1  \n",
       "3          255.0      1  \n",
       "4          264.0      1  \n",
       "\n",
       "[5 rows x 31 columns]"
      ]
     },
     "execution_count": 44,
     "metadata": {},
     "output_type": "execute_result"
    }
   ],
   "source": [
    "df.head()"
   ]
  },
  {
   "cell_type": "code",
   "execution_count": 45,
   "id": "c6d999ae",
   "metadata": {},
   "outputs": [
    {
     "data": {
      "text/plain": [
       "(18484, 31)"
      ]
     },
     "execution_count": 45,
     "metadata": {},
     "output_type": "execute_result"
    }
   ],
   "source": [
    "df.shape"
   ]
  },
  {
   "cell_type": "code",
   "execution_count": 46,
   "id": "d5aa5120",
   "metadata": {},
   "outputs": [
    {
     "data": {
      "text/plain": [
       "CustomerKey                         int64\n",
       "OrderDate_max              datetime64[ns]\n",
       "OrderDate_min              datetime64[ns]\n",
       "BirthDate                  datetime64[ns]\n",
       "DateFirstPurchase          datetime64[ns]\n",
       "MaritalStatus                      object\n",
       "Gender                             object\n",
       "YearlyIncome                      float64\n",
       "TotalChildren                       int64\n",
       "NumberChildrenAtHome                int64\n",
       "EnglishEducation                   object\n",
       "EnglishOccupation                  object\n",
       "HouseOwnerFlag                     object\n",
       "NumberCarsOwned                     int64\n",
       "endDate                    datetime64[ns]\n",
       "Age                               float64\n",
       "SalesAmount_max                   float64\n",
       "SalesAmount_min                   float64\n",
       "SalesAmount_sum                   float64\n",
       "ProductStandardCost_max           float64\n",
       "ProductStandardCost_min           float64\n",
       "ProductStandardCost_sum           float64\n",
       "OrderQuantity_max                   int64\n",
       "OrderQuantity_min                   int64\n",
       "OrderQuantity_sum                   int64\n",
       "Profit_max                        float64\n",
       "Profit_min                        float64\n",
       "Profit_sum                        float64\n",
       "Ternure                           float64\n",
       "SincelastUsed                     float64\n",
       "Churn                               int32\n",
       "dtype: object"
      ]
     },
     "execution_count": 46,
     "metadata": {},
     "output_type": "execute_result"
    }
   ],
   "source": [
    "df.dtypes"
   ]
  },
  {
   "cell_type": "code",
   "execution_count": 47,
   "id": "2ad1e33b",
   "metadata": {},
   "outputs": [
    {
     "data": {
      "text/plain": [
       "CustomerKey                0\n",
       "OrderDate_max              0\n",
       "OrderDate_min              0\n",
       "BirthDate                  0\n",
       "DateFirstPurchase          0\n",
       "MaritalStatus              0\n",
       "Gender                     0\n",
       "YearlyIncome               0\n",
       "TotalChildren              0\n",
       "NumberChildrenAtHome       0\n",
       "EnglishEducation           0\n",
       "EnglishOccupation          0\n",
       "HouseOwnerFlag             0\n",
       "NumberCarsOwned            0\n",
       "endDate                    0\n",
       "Age                        0\n",
       "SalesAmount_max            0\n",
       "SalesAmount_min            0\n",
       "SalesAmount_sum            0\n",
       "ProductStandardCost_max    0\n",
       "ProductStandardCost_min    0\n",
       "ProductStandardCost_sum    0\n",
       "OrderQuantity_max          0\n",
       "OrderQuantity_min          0\n",
       "OrderQuantity_sum          0\n",
       "Profit_max                 0\n",
       "Profit_min                 0\n",
       "Profit_sum                 0\n",
       "Ternure                    0\n",
       "SincelastUsed              0\n",
       "Churn                      0\n",
       "dtype: int64"
      ]
     },
     "execution_count": 47,
     "metadata": {},
     "output_type": "execute_result"
    }
   ],
   "source": [
    "df.isna().sum()"
   ]
  },
  {
   "cell_type": "markdown",
   "id": "28dee443",
   "metadata": {},
   "source": [
    "# EDA"
   ]
  },
  {
   "cell_type": "code",
   "execution_count": 48,
   "id": "7117768d",
   "metadata": {},
   "outputs": [
    {
     "data": {
      "text/plain": [
       "0    13232\n",
       "1     5252\n",
       "Name: Churn, dtype: int64"
      ]
     },
     "execution_count": 48,
     "metadata": {},
     "output_type": "execute_result"
    }
   ],
   "source": [
    "df['Churn'].value_counts() #only 5252 customers have churned"
   ]
  },
  {
   "cell_type": "code",
   "execution_count": 49,
   "id": "c1b99e66",
   "metadata": {},
   "outputs": [],
   "source": [
    "columns=df.columns\n",
    "binary_cols=[]\n",
    "\n",
    "for cols in columns:\n",
    "    if df[cols].value_counts().shape[0]==2:\n",
    "        binary_cols.append(cols)"
   ]
  },
  {
   "cell_type": "code",
   "execution_count": 50,
   "id": "e3addf2e",
   "metadata": {},
   "outputs": [
    {
     "data": {
      "text/plain": [
       "['MaritalStatus', 'Gender', 'HouseOwnerFlag', 'Churn']"
      ]
     },
     "execution_count": 50,
     "metadata": {},
     "output_type": "execute_result"
    }
   ],
   "source": [
    "binary_cols"
   ]
  },
  {
   "cell_type": "code",
   "execution_count": 51,
   "id": "b67f2a0b",
   "metadata": {},
   "outputs": [
    {
     "name": "stderr",
     "output_type": "stream",
     "text": [
      "C:\\Users\\anuma\\anaconda3\\lib\\site-packages\\seaborn\\_decorators.py:36: FutureWarning:\n",
      "\n",
      "Pass the following variable as a keyword arg: x. From version 0.12, the only valid positional argument will be `data`, and passing other arguments without an explicit keyword will result in an error or misinterpretation.\n",
      "\n",
      "C:\\Users\\anuma\\anaconda3\\lib\\site-packages\\seaborn\\_decorators.py:36: FutureWarning:\n",
      "\n",
      "Pass the following variable as a keyword arg: x. From version 0.12, the only valid positional argument will be `data`, and passing other arguments without an explicit keyword will result in an error or misinterpretation.\n",
      "\n",
      "C:\\Users\\anuma\\anaconda3\\lib\\site-packages\\seaborn\\_decorators.py:36: FutureWarning:\n",
      "\n",
      "Pass the following variable as a keyword arg: x. From version 0.12, the only valid positional argument will be `data`, and passing other arguments without an explicit keyword will result in an error or misinterpretation.\n",
      "\n",
      "C:\\Users\\anuma\\anaconda3\\lib\\site-packages\\seaborn\\_decorators.py:36: FutureWarning:\n",
      "\n",
      "Pass the following variable as a keyword arg: x. From version 0.12, the only valid positional argument will be `data`, and passing other arguments without an explicit keyword will result in an error or misinterpretation.\n",
      "\n"
     ]
    },
    {
     "data": {
      "text/plain": [
       "<AxesSubplot:xlabel='Churn', ylabel='count'>"
      ]
     },
     "execution_count": 51,
     "metadata": {},
     "output_type": "execute_result"
    },
    {
     "data": {
      "image/png": "[encoded data removed]",
      "text/plain": [
       "<Figure size 864x504 with 6 Axes>"
      ]
     },
     "metadata": {
      "needs_background": "light"
     },
     "output_type": "display_data"
    }
   ],
   "source": [
    "#lets look at the class distribution of the binaty columms in the data\n",
    "plt.style.use(['bmh','seaborn-talk'])\n",
    "fig, axes = plt.subplots(2, 3, figsize=(12, 7), sharey=True)\n",
    "sns.countplot(\"Gender\", data=df, ax=axes[0,0])\n",
    "sns.countplot(\"MaritalStatus\", data=df, ax=axes[0,1])\n",
    "sns.countplot(\"HouseOwnerFlag\", data=df, ax=axes[0,2])\n",
    "sns.countplot(\"Churn\", data=df, ax=axes[1,0])\n"
   ]
  },
  {
   "cell_type": "code",
   "execution_count": 52,
   "id": "cc788d70",
   "metadata": {},
   "outputs": [
    {
     "data": {
      "image/png": "[encoded data removed]",
      "text/plain": [
       "<Figure size 1008x288 with 1 Axes>"
      ]
     },
     "metadata": {
      "needs_background": "light"
     },
     "output_type": "display_data"
    },
    {
     "data": {
      "image/png": "[encoded data removed]",
      "text/plain": [
       "<Figure size 1008x288 with 1 Axes>"
      ]
     },
     "metadata": {
      "needs_background": "light"
     },
     "output_type": "display_data"
    },
    {
     "data": {
      "image/png": "[encoded data removed]",
      "text/plain": [
       "<Figure size 1008x288 with 1 Axes>"
      ]
     },
     "metadata": {
      "needs_background": "light"
     },
     "output_type": "display_data"
    }
   ],
   "source": [
    "plt.style.use(['bmh','seaborn-talk'])\n",
    "\n",
    "cols = ['Gender', 'MaritalStatus', 'HouseOwnerFlag']\n",
    "\n",
    "for i in cols:\n",
    "    plt.figure(figsize=(14,4))\n",
    "    sns.countplot(x=i, hue='Churn', data=df)\n",
    "    plt.ylabel('Number of Customers')\n",
    "    plt.show()"
   ]
  },
  {
   "cell_type": "code",
   "execution_count": 160,
   "id": "ad7d702f",
   "metadata": {},
   "outputs": [
    {
     "data": {
      "image/png": "[encoded data removed]",
      "text/plain": [
       "<Figure size 1008x288 with 1 Axes>"
      ]
     },
     "metadata": {},
     "output_type": "display_data"
    },
    {
     "data": {
      "image/png": "[encoded data removed]",
      "text/plain": [
       "<Figure size 1008x288 with 1 Axes>"
      ]
     },
     "metadata": {},
     "output_type": "display_data"
    },
    {
     "data": {
      "image/png": "[encoded data removed]",
      "text/plain": [
       "<Figure size 1008x288 with 1 Axes>"
      ]
     },
     "metadata": {},
     "output_type": "display_data"
    }
   ],
   "source": [
    "plt.style.use(['bmh','seaborn-talk'])\n",
    "\n",
    "cols = ['EnglishEducation', 'NumberCarsOwned',\n",
    "       'EnglishOccupation']\n",
    "\n",
    "for i in cols:\n",
    "    plt.figure(figsize=(14,4))\n",
    "    sns.countplot(x=i, hue='Churn', data=df)\n",
    "    plt.ylabel('Number of Customers')\n",
    "    plt.show()\n",
    "    "
   ]
  },
  {
   "cell_type": "code",
   "execution_count": 170,
   "id": "c4bd10b8",
   "metadata": {
    "scrolled": false
   },
   "outputs": [
    {
     "ename": "ValueError",
     "evalue": "The number of FixedLocator locations (6), usually from a call to set_ticks, does not match the number of ticklabels (18484).",
     "output_type": "error",
     "traceback": [
      "\u001b[1;31m---------------------------------------------------------------------------\u001b[0m",
      "\u001b[1;31mValueError\u001b[0m                                Traceback (most recent call last)",
      "\u001b[1;32m<ipython-input-170-5ba6980304e9>\u001b[0m in \u001b[0;36m<module>\u001b[1;34m\u001b[0m\n\u001b[0;32m      3\u001b[0m g = sns.barplot(data=df, x='NumberChildrenAtHome', y='Churn',\n\u001b[0;32m      4\u001b[0m                 ci=False, palette='viridis_r')\n\u001b[1;32m----> 5\u001b[1;33m \u001b[0mg\u001b[0m\u001b[1;33m.\u001b[0m\u001b[0mset_xticklabels\u001b[0m\u001b[1;33m(\u001b[0m\u001b[0mdf\u001b[0m\u001b[1;33m[\u001b[0m\u001b[1;34m'NumberChildrenAtHome'\u001b[0m\u001b[1;33m]\u001b[0m\u001b[1;33m,\u001b[0m \u001b[0mrotation\u001b[0m\u001b[1;33m=\u001b[0m\u001b[1;36m55\u001b[0m\u001b[1;33m,\u001b[0m \u001b[0mfontdict\u001b[0m\u001b[1;33m=\u001b[0m\u001b[1;33m{\u001b[0m\u001b[1;34m'fontsize'\u001b[0m\u001b[1;33m:\u001b[0m\u001b[1;36m10\u001b[0m\u001b[1;33m}\u001b[0m\u001b[1;33m)\u001b[0m\u001b[1;33m\u001b[0m\u001b[1;33m\u001b[0m\u001b[0m\n\u001b[0m\u001b[0;32m      6\u001b[0m \u001b[0mplt\u001b[0m\u001b[1;33m.\u001b[0m\u001b[0mshow\u001b[0m\u001b[1;33m(\u001b[0m\u001b[1;33m)\u001b[0m\u001b[1;33m\u001b[0m\u001b[1;33m\u001b[0m\u001b[0m\n",
      "\u001b[1;32m~\\anaconda3\\lib\\site-packages\\matplotlib\\axes\\_base.py\u001b[0m in \u001b[0;36mwrapper\u001b[1;34m(self, *args, **kwargs)\u001b[0m\n\u001b[0;32m     61\u001b[0m             \u001b[1;32mfor\u001b[0m \u001b[0mk\u001b[0m\u001b[1;33m,\u001b[0m \u001b[0mv\u001b[0m \u001b[1;32min\u001b[0m \u001b[0mdoc_sub\u001b[0m\u001b[1;33m.\u001b[0m\u001b[0mitems\u001b[0m\u001b[1;33m(\u001b[0m\u001b[1;33m)\u001b[0m\u001b[1;33m:\u001b[0m\u001b[1;33m\u001b[0m\u001b[1;33m\u001b[0m\u001b[0m\n\u001b[0;32m     62\u001b[0m                 \u001b[1;32mif\u001b[0m \u001b[0mk\u001b[0m \u001b[1;32mnot\u001b[0m \u001b[1;32min\u001b[0m \u001b[0mdoc\u001b[0m\u001b[1;33m:\u001b[0m  \u001b[1;31m# Delay raising error until we know qualname.\u001b[0m\u001b[1;33m\u001b[0m\u001b[1;33m\u001b[0m\u001b[0m\n\u001b[1;32m---> 63\u001b[1;33m                     \u001b[0mself\u001b[0m\u001b[1;33m.\u001b[0m\u001b[0m_missing_subs\u001b[0m\u001b[1;33m.\u001b[0m\u001b[0mappend\u001b[0m\u001b[1;33m(\u001b[0m\u001b[0mk\u001b[0m\u001b[1;33m)\u001b[0m\u001b[1;33m\u001b[0m\u001b[1;33m\u001b[0m\u001b[0m\n\u001b[0m\u001b[0;32m     64\u001b[0m                 \u001b[0mdoc\u001b[0m \u001b[1;33m=\u001b[0m \u001b[0mdoc\u001b[0m\u001b[1;33m.\u001b[0m\u001b[0mreplace\u001b[0m\u001b[1;33m(\u001b[0m\u001b[0mk\u001b[0m\u001b[1;33m,\u001b[0m \u001b[0mv\u001b[0m\u001b[1;33m)\u001b[0m\u001b[1;33m\u001b[0m\u001b[1;33m\u001b[0m\u001b[0m\n\u001b[0;32m     65\u001b[0m         \u001b[0mself\u001b[0m\u001b[1;33m.\u001b[0m\u001b[0m__doc__\u001b[0m \u001b[1;33m=\u001b[0m \u001b[0mdoc\u001b[0m\u001b[1;33m\u001b[0m\u001b[1;33m\u001b[0m\u001b[0m\n",
      "\u001b[1;32m~\\anaconda3\\lib\\site-packages\\matplotlib\\cbook\\deprecation.py\u001b[0m in \u001b[0;36mwrapper\u001b[1;34m(*args, **kwargs)\u001b[0m\n",
      "\u001b[1;32m~\\anaconda3\\lib\\site-packages\\matplotlib\\axis.py\u001b[0m in \u001b[0;36m_set_ticklabels\u001b[1;34m(self, labels, fontdict, minor, **kwargs)\u001b[0m\n\u001b[0;32m   1794\u001b[0m         \u001b[0mSet\u001b[0m \u001b[0mthe\u001b[0m \u001b[0mformatter\u001b[0m \u001b[0mof\u001b[0m \u001b[0mthe\u001b[0m \u001b[0mmajor\u001b[0m \u001b[0mticker\u001b[0m\u001b[1;33m.\u001b[0m\u001b[1;33m\u001b[0m\u001b[1;33m\u001b[0m\u001b[0m\n\u001b[0;32m   1795\u001b[0m \u001b[1;33m\u001b[0m\u001b[0m\n\u001b[1;32m-> 1796\u001b[1;33m         \u001b[0mIn\u001b[0m \u001b[0maddition\u001b[0m \u001b[0mto\u001b[0m \u001b[0ma\u001b[0m\u001b[0;31m \u001b[0m\u001b[0;31m`\u001b[0m\u001b[1;33m~\u001b[0m\u001b[0mmatplotlib\u001b[0m\u001b[1;33m.\u001b[0m\u001b[0mticker\u001b[0m\u001b[1;33m.\u001b[0m\u001b[0mFormatter\u001b[0m\u001b[0;31m`\u001b[0m \u001b[0minstance\u001b[0m\u001b[1;33m,\u001b[0m\u001b[1;33m\u001b[0m\u001b[1;33m\u001b[0m\u001b[0m\n\u001b[0m\u001b[0;32m   1797\u001b[0m         \u001b[0mthis\u001b[0m \u001b[0malso\u001b[0m \u001b[0maccepts\u001b[0m \u001b[0ma\u001b[0m\u001b[0;31m \u001b[0m\u001b[0;31m`\u001b[0m\u001b[0;31m`\u001b[0m\u001b[0mstr\u001b[0m\u001b[0;31m`\u001b[0m\u001b[0;31m`\u001b[0m \u001b[1;32mor\u001b[0m \u001b[0mfunction\u001b[0m\u001b[1;33m.\u001b[0m\u001b[1;33m\u001b[0m\u001b[1;33m\u001b[0m\u001b[0m\n\u001b[0;32m   1798\u001b[0m \u001b[1;33m\u001b[0m\u001b[0m\n",
      "\u001b[1;32m~\\anaconda3\\lib\\site-packages\\matplotlib\\axis.py\u001b[0m in \u001b[0;36mset_ticklabels\u001b[1;34m(self, ticklabels, minor, **kwargs)\u001b[0m\n\u001b[0;32m   1715\u001b[0m \u001b[1;33m\u001b[0m\u001b[0m\n\u001b[0;32m   1716\u001b[0m         \u001b[0mself\u001b[0m\u001b[1;33m.\u001b[0m\u001b[0mset_default_intervals\u001b[0m\u001b[1;33m(\u001b[0m\u001b[1;33m)\u001b[0m\u001b[1;33m\u001b[0m\u001b[1;33m\u001b[0m\u001b[0m\n\u001b[1;32m-> 1717\u001b[1;33m \u001b[1;33m\u001b[0m\u001b[0m\n\u001b[0m\u001b[0;32m   1718\u001b[0m     \u001b[1;32mdef\u001b[0m \u001b[0mhave_units\u001b[0m\u001b[1;33m(\u001b[0m\u001b[0mself\u001b[0m\u001b[1;33m)\u001b[0m\u001b[1;33m:\u001b[0m\u001b[1;33m\u001b[0m\u001b[1;33m\u001b[0m\u001b[0m\n\u001b[0;32m   1719\u001b[0m         \u001b[1;32mreturn\u001b[0m \u001b[0mself\u001b[0m\u001b[1;33m.\u001b[0m\u001b[0mconverter\u001b[0m \u001b[1;32mis\u001b[0m \u001b[1;32mnot\u001b[0m \u001b[1;32mNone\u001b[0m \u001b[1;32mor\u001b[0m \u001b[0mself\u001b[0m\u001b[1;33m.\u001b[0m\u001b[0munits\u001b[0m \u001b[1;32mis\u001b[0m \u001b[1;32mnot\u001b[0m \u001b[1;32mNone\u001b[0m\u001b[1;33m\u001b[0m\u001b[1;33m\u001b[0m\u001b[0m\n",
      "\u001b[1;31mValueError\u001b[0m: The number of FixedLocator locations (6), usually from a call to set_ticks, does not match the number of ticklabels (18484)."
     ]
    },
    {
     "data": {
      "image/png": "[encoded data removed]",
      "text/plain": [
       "<Figure size 1080x468 with 1 Axes>"
      ]
     },
     "metadata": {},
     "output_type": "display_data"
    }
   ],
   "source": [
    "plt.figure(figsize=(15,6.5))\n",
    "sns.set_style('darkgrid')\n",
    "g = sns.barplot(data=df, x='NumberChildrenAtHome', y='Churn',\n",
    "                ci=False, palette='viridis_r')\n",
    "g.set_xticklabels(df['NumberChildrenAtHome'], rotation=55, fontdict={'fontsize':10})\n",
    "plt.show()"
   ]
  },
  {
   "cell_type": "code",
   "execution_count": 53,
   "id": "fa388392",
   "metadata": {},
   "outputs": [
    {
     "data": {
      "text/html": [
       "<div>\n",
       "<style scoped>\n",
       "    .dataframe tbody tr th:only-of-type {\n",
       "        vertical-align: middle;\n",
       "    }\n",
       "\n",
       "    .dataframe tbody tr th {\n",
       "        vertical-align: top;\n",
       "    }\n",
       "\n",
       "    .dataframe thead th {\n",
       "        text-align: right;\n",
       "    }\n",
       "</style>\n",
       "<table border=\"1\" class=\"dataframe\">\n",
       "  <thead>\n",
       "    <tr style=\"text-align: right;\">\n",
       "      <th></th>\n",
       "      <th>Churn</th>\n",
       "    </tr>\n",
       "    <tr>\n",
       "      <th>Gender</th>\n",
       "      <th></th>\n",
       "    </tr>\n",
       "  </thead>\n",
       "  <tbody>\n",
       "    <tr>\n",
       "      <th>F</th>\n",
       "      <td>0.283368</td>\n",
       "    </tr>\n",
       "    <tr>\n",
       "      <th>M</th>\n",
       "      <td>0.284889</td>\n",
       "    </tr>\n",
       "  </tbody>\n",
       "</table>\n",
       "</div>"
      ],
      "text/plain": [
       "           Churn\n",
       "Gender          \n",
       "F       0.283368\n",
       "M       0.284889"
      ]
     },
     "execution_count": 53,
     "metadata": {},
     "output_type": "execute_result"
    }
   ],
   "source": [
    "#Lets dee of the churn rate for male and females are thesame\n",
    "#in other words, lets see if gender afects churn\n",
    "\n",
    "df[['Gender','Churn']].groupby(['Gender']).mean()"
   ]
  },
  {
   "cell_type": "code",
   "execution_count": 54,
   "id": "bd43b1ef",
   "metadata": {},
   "outputs": [
    {
     "data": {
      "text/plain": [
       "(                  Churn\n",
       " MaritalStatus          \n",
       " M              0.276596\n",
       " S              0.293049,\n",
       "                    Churn\n",
       " HouseOwnerFlag          \n",
       " 0               0.293547\n",
       " 1               0.279635)"
      ]
     },
     "execution_count": 54,
     "metadata": {},
     "output_type": "execute_result"
    }
   ],
   "source": [
    "# similarly, lets look at the churn rate in marital status and house owner flag\n",
    "\n",
    "df[['MaritalStatus','Churn']].groupby(['MaritalStatus']).mean(),df[['HouseOwnerFlag','Churn']].groupby(['HouseOwnerFlag']).mean()"
   ]
  },
  {
   "cell_type": "code",
   "execution_count": 55,
   "id": "ddcbc27e",
   "metadata": {},
   "outputs": [
    {
     "data": {
      "text/html": [
       "<div>\n",
       "<style scoped>\n",
       "    .dataframe tbody tr th:only-of-type {\n",
       "        vertical-align: middle;\n",
       "    }\n",
       "\n",
       "    .dataframe tbody tr th {\n",
       "        vertical-align: top;\n",
       "    }\n",
       "\n",
       "    .dataframe thead th {\n",
       "        text-align: right;\n",
       "    }\n",
       "</style>\n",
       "<table border=\"1\" class=\"dataframe\">\n",
       "  <thead>\n",
       "    <tr style=\"text-align: right;\">\n",
       "      <th>HouseOwnerFlag</th>\n",
       "      <th>0</th>\n",
       "      <th>1</th>\n",
       "    </tr>\n",
       "    <tr>\n",
       "      <th>Gender</th>\n",
       "      <th></th>\n",
       "      <th></th>\n",
       "    </tr>\n",
       "  </thead>\n",
       "  <tbody>\n",
       "    <tr>\n",
       "      <th>F</th>\n",
       "      <td>0.292234</td>\n",
       "      <td>0.279167</td>\n",
       "    </tr>\n",
       "    <tr>\n",
       "      <th>M</th>\n",
       "      <td>0.294813</td>\n",
       "      <td>0.280095</td>\n",
       "    </tr>\n",
       "  </tbody>\n",
       "</table>\n",
       "</div>"
      ],
      "text/plain": [
       "HouseOwnerFlag         0         1\n",
       "Gender                            \n",
       "F               0.292234  0.279167\n",
       "M               0.294813  0.280095"
      ]
     },
     "execution_count": 55,
     "metadata": {},
     "output_type": "execute_result"
    }
   ],
   "source": [
    "table = pd.pivot_table(df, values='Churn', index=['Gender'],\n",
    "                    columns=['HouseOwnerFlag'], aggfunc=np.mean)\n",
    "table"
   ]
  },
  {
   "cell_type": "raw",
   "id": "4bed0f16",
   "metadata": {},
   "source": [
    "looks like gender and marital status has no impact on churn. However, house owner flag has an impact. I will see if these features are selecteed during feature seection using the correlation metrix"
   ]
  },
  {
   "cell_type": "code",
   "execution_count": null,
   "id": "85668c8c",
   "metadata": {},
   "outputs": [],
   "source": [
    "plt.style.use(['bmh','seaborn-talk'])\n",
    "\n",
    "cols = ['Gender', 'MaritalStatus', 'HouseOwnerFlag']\n",
    "\n",
    "for i in cols:\n",
    "    plt.figure(figsize=(14,4))\n",
    "    sns.countplot(x=i, hue='Churn', data=df)\n",
    "    plt.ylabel('Number of Customers')\n",
    "    plt.show()"
   ]
  },
  {
   "cell_type": "code",
   "execution_count": 99,
   "id": "5102fa56",
   "metadata": {},
   "outputs": [],
   "source": [
    "dFrm=df.copy() #good practice to save copies of your work so you can always return to a point and make adjustments if needed"
   ]
  },
  {
   "cell_type": "code",
   "execution_count": 100,
   "id": "7a005e9b",
   "metadata": {},
   "outputs": [
    {
     "name": "stderr",
     "output_type": "stream",
     "text": [
      "C:\\Users\\anuma\\anaconda3\\lib\\site-packages\\seaborn\\_decorators.py:36: FutureWarning:\n",
      "\n",
      "Pass the following variable as a keyword arg: x. From version 0.12, the only valid positional argument will be `data`, and passing other arguments without an explicit keyword will result in an error or misinterpretation.\n",
      "\n"
     ]
    },
    {
     "data": {
      "image/png": "[encoded data removed]",
      "text/plain": [
       "<Figure size 1152x432 with 2 Axes>"
      ]
     },
     "metadata": {},
     "output_type": "display_data"
    }
   ],
   "source": [
    "plt.style.use(['seaborn-dark','seaborn-talk'])\n",
    "\n",
    "fig, ax = plt.subplots(1,2,figsize=(16,6))\n",
    "\n",
    "dFrm['Churn'].value_counts().plot.pie(explode=[0,0.08], ax=ax[0], autopct='%1.2f%%', shadow=True, \n",
    "                                    fontsize=14, startangle=30, colors=[\"#3791D7\", \"#D72626\"])\n",
    "ax[0].set_title('Total Churn Percentage')\n",
    "\n",
    "sns.countplot('Churn', data=dFrm, ax=ax[1], palette=[\"#3791D7\", \"#D72626\"])\n",
    "ax[1].set_title('Total Number of Churn Customers')\n",
    "ax[1].set_ylabel(' ')\n",
    "\n",
    "plt.show()"
   ]
  },
  {
   "cell_type": "code",
   "execution_count": 101,
   "id": "6c03fa4e",
   "metadata": {},
   "outputs": [
    {
     "data": {
      "text/plain": [
       "(18484, 31)"
      ]
     },
     "execution_count": 101,
     "metadata": {},
     "output_type": "execute_result"
    }
   ],
   "source": [
    "dFrm.shape"
   ]
  },
  {
   "cell_type": "code",
   "execution_count": 102,
   "id": "953f8a59",
   "metadata": {},
   "outputs": [],
   "source": [
    "#I will drop cols that have no use in the models. these will only add noise and unwanted data in the model\n",
    "\n",
    "dFrm.drop(['OrderDate_max','OrderDate_min','BirthDate','DateFirstPurchase','endDate',\n",
    "         'SalesAmount_max', 'SalesAmount_min',\n",
    "       'ProductStandardCost_max', 'ProductStandardCost_min','ProductStandardCost_sum',\n",
    "         'OrderQuantity_max', 'OrderQuantity_min','Profit_max', 'Profit_min', 'Profit_sum',\n",
    "         'SincelastUsed'], axis=1, inplace=True)"
   ]
  },
  {
   "cell_type": "code",
   "execution_count": 103,
   "id": "449bd638",
   "metadata": {},
   "outputs": [
    {
     "data": {
      "text/plain": [
       "(18484, 15)"
      ]
     },
     "execution_count": 103,
     "metadata": {},
     "output_type": "execute_result"
    }
   ],
   "source": [
    "dFrm.shape"
   ]
  },
  {
   "cell_type": "code",
   "execution_count": 104,
   "id": "733c0185",
   "metadata": {},
   "outputs": [
    {
     "data": {
      "text/plain": [
       "Index(['CustomerKey', 'MaritalStatus', 'Gender', 'YearlyIncome',\n",
       "       'TotalChildren', 'NumberChildrenAtHome', 'EnglishEducation',\n",
       "       'EnglishOccupation', 'HouseOwnerFlag', 'NumberCarsOwned', 'Age',\n",
       "       'SalesAmount_sum', 'OrderQuantity_sum', 'Ternure', 'Churn'],\n",
       "      dtype='object')"
      ]
     },
     "execution_count": 104,
     "metadata": {},
     "output_type": "execute_result"
    }
   ],
   "source": [
    "dFrm.columns"
   ]
  },
  {
   "cell_type": "code",
   "execution_count": 105,
   "id": "683ed108",
   "metadata": {},
   "outputs": [
    {
     "data": {
      "image/png": "[encoded data removed]",
      "text/plain": [
       "<Figure size 748.8x514.8 with 2 Axes>"
      ]
     },
     "metadata": {},
     "output_type": "display_data"
    },
    {
     "data": {
      "image/png": "[encoded data removed]",
      "text/plain": [
       "<Figure size 748.8x514.8 with 2 Axes>"
      ]
     },
     "metadata": {},
     "output_type": "display_data"
    }
   ],
   "source": [
    "# Calculate the correlation matrix\n",
    "corr_matrix = dFrm.corr()\n",
    "\n",
    "# Plot the correlation matrix using heatmap\n",
    "sns.heatmap(corr_matrix, annot=True, cmap='coolwarm')\n",
    "plt.title('Correlation Matrix Heatmap')\n",
    "plt.show()\n",
    "\n",
    "# Get the top n features with highest correlation\n",
    "n = 12\n",
    "top_n_features = corr_matrix.nlargest(n, 'Churn')['Churn'].index\n",
    "top_n_correlations = dFrm[top_n_features].corr()\n",
    "\n",
    "# Plot the top n features correlation matrix using heatmap\n",
    "sns.heatmap(top_n_correlations, annot=True, cmap='coolwarm')\n",
    "plt.title(f'Top {n} Features Correlation Matrix Heatmap')\n",
    "plt.show()\n",
    "\n",
    "# Select the top n features\n",
    "selected_features = list(top_n_features)"
   ]
  },
  {
   "cell_type": "code",
   "execution_count": 106,
   "id": "32c0ea3e",
   "metadata": {},
   "outputs": [
    {
     "data": {
      "text/plain": [
       "['Churn',\n",
       " 'CustomerKey',\n",
       " 'Age',\n",
       " 'TotalChildren',\n",
       " 'NumberCarsOwned',\n",
       " 'SalesAmount_sum',\n",
       " 'YearlyIncome',\n",
       " 'NumberChildrenAtHome',\n",
       " 'OrderQuantity_sum',\n",
       " 'Ternure']"
      ]
     },
     "execution_count": 106,
     "metadata": {},
     "output_type": "execute_result"
    }
   ],
   "source": [
    "selected_features \n",
    "#interesting how marital status and gender is not amonge the top relivant features and these \n",
    "#are features i would naturally want to include in a ML process"
   ]
  },
  {
   "cell_type": "code",
   "execution_count": 107,
   "id": "ab44368e",
   "metadata": {
    "scrolled": true
   },
   "outputs": [
    {
     "data": {
      "text/plain": [
       "Index(['CustomerKey', 'MaritalStatus', 'Gender', 'YearlyIncome',\n",
       "       'TotalChildren', 'NumberChildrenAtHome', 'EnglishEducation',\n",
       "       'EnglishOccupation', 'HouseOwnerFlag', 'NumberCarsOwned', 'Age',\n",
       "       'SalesAmount_sum', 'OrderQuantity_sum', 'Ternure', 'Churn'],\n",
       "      dtype='object')"
      ]
     },
     "execution_count": 107,
     "metadata": {},
     "output_type": "execute_result"
    }
   ],
   "source": [
    "dFrm.columns"
   ]
  },
  {
   "cell_type": "code",
   "execution_count": 108,
   "id": "d97d9feb",
   "metadata": {},
   "outputs": [],
   "source": [
    "colu=['MaritalStatus', 'Gender','NumberChildrenAtHome','OrderQuantity_sum','EnglishEducation',\n",
    "       'EnglishOccupation']\n",
    "dFrm.drop(colu, axis =1, inplace=True)\n",
    "\n",
    "#I chose to leave Education and occupation in the data and as suspected, Gender and Marital status  did not play a part in churn"
   ]
  },
  {
   "cell_type": "code",
   "execution_count": 109,
   "id": "8ca0af13",
   "metadata": {},
   "outputs": [
    {
     "data": {
      "text/plain": [
       "Index(['CustomerKey', 'YearlyIncome', 'TotalChildren', 'HouseOwnerFlag',\n",
       "       'NumberCarsOwned', 'Age', 'SalesAmount_sum', 'Ternure', 'Churn'],\n",
       "      dtype='object')"
      ]
     },
     "execution_count": 109,
     "metadata": {},
     "output_type": "execute_result"
    }
   ],
   "source": [
    "dFrm.columns"
   ]
  },
  {
   "cell_type": "code",
   "execution_count": 110,
   "id": "c6a5aaa6",
   "metadata": {},
   "outputs": [
    {
     "data": {
      "text/html": [
       "<div>\n",
       "<style scoped>\n",
       "    .dataframe tbody tr th:only-of-type {\n",
       "        vertical-align: middle;\n",
       "    }\n",
       "\n",
       "    .dataframe tbody tr th {\n",
       "        vertical-align: top;\n",
       "    }\n",
       "\n",
       "    .dataframe thead th {\n",
       "        text-align: right;\n",
       "    }\n",
       "</style>\n",
       "<table border=\"1\" class=\"dataframe\">\n",
       "  <thead>\n",
       "    <tr style=\"text-align: right;\">\n",
       "      <th></th>\n",
       "      <th>CustomerKey</th>\n",
       "      <th>YearlyIncome</th>\n",
       "      <th>TotalChildren</th>\n",
       "      <th>HouseOwnerFlag</th>\n",
       "      <th>NumberCarsOwned</th>\n",
       "      <th>Age</th>\n",
       "      <th>SalesAmount_sum</th>\n",
       "      <th>Ternure</th>\n",
       "      <th>Churn</th>\n",
       "    </tr>\n",
       "  </thead>\n",
       "  <tbody>\n",
       "    <tr>\n",
       "      <th>0</th>\n",
       "      <td>11000</td>\n",
       "      <td>90000.0</td>\n",
       "      <td>2</td>\n",
       "      <td>1</td>\n",
       "      <td>0</td>\n",
       "      <td>42.292450</td>\n",
       "      <td>8248.99</td>\n",
       "      <td>835.0</td>\n",
       "      <td>1</td>\n",
       "    </tr>\n",
       "    <tr>\n",
       "      <th>1</th>\n",
       "      <td>11001</td>\n",
       "      <td>60000.0</td>\n",
       "      <td>3</td>\n",
       "      <td>0</td>\n",
       "      <td>1</td>\n",
       "      <td>37.698242</td>\n",
       "      <td>6383.88</td>\n",
       "      <td>1060.0</td>\n",
       "      <td>0</td>\n",
       "    </tr>\n",
       "    <tr>\n",
       "      <th>2</th>\n",
       "      <td>11002</td>\n",
       "      <td>60000.0</td>\n",
       "      <td>3</td>\n",
       "      <td>1</td>\n",
       "      <td>1</td>\n",
       "      <td>42.946809</td>\n",
       "      <td>8114.04</td>\n",
       "      <td>778.0</td>\n",
       "      <td>1</td>\n",
       "    </tr>\n",
       "    <tr>\n",
       "      <th>3</th>\n",
       "      <td>11003</td>\n",
       "      <td>70000.0</td>\n",
       "      <td>0</td>\n",
       "      <td>0</td>\n",
       "      <td>1</td>\n",
       "      <td>40.436149</td>\n",
       "      <td>8139.29</td>\n",
       "      <td>863.0</td>\n",
       "      <td>1</td>\n",
       "    </tr>\n",
       "    <tr>\n",
       "      <th>4</th>\n",
       "      <td>11004</td>\n",
       "      <td>80000.0</td>\n",
       "      <td>5</td>\n",
       "      <td>1</td>\n",
       "      <td>4</td>\n",
       "      <td>34.462035</td>\n",
       "      <td>8196.01</td>\n",
       "      <td>829.0</td>\n",
       "      <td>1</td>\n",
       "    </tr>\n",
       "  </tbody>\n",
       "</table>\n",
       "</div>"
      ],
      "text/plain": [
       "   CustomerKey  YearlyIncome  TotalChildren HouseOwnerFlag  NumberCarsOwned  \\\n",
       "0        11000       90000.0              2              1                0   \n",
       "1        11001       60000.0              3              0                1   \n",
       "2        11002       60000.0              3              1                1   \n",
       "3        11003       70000.0              0              0                1   \n",
       "4        11004       80000.0              5              1                4   \n",
       "\n",
       "         Age  SalesAmount_sum  Ternure  Churn  \n",
       "0  42.292450          8248.99    835.0      1  \n",
       "1  37.698242          6383.88   1060.0      0  \n",
       "2  42.946809          8114.04    778.0      1  \n",
       "3  40.436149          8139.29    863.0      1  \n",
       "4  34.462035          8196.01    829.0      1  "
      ]
     },
     "execution_count": 110,
     "metadata": {},
     "output_type": "execute_result"
    }
   ],
   "source": [
    "dFrm.head()"
   ]
  },
  {
   "cell_type": "markdown",
   "id": "5160f6ba",
   "metadata": {},
   "source": [
    "### Scaling the daya"
   ]
  },
  {
   "cell_type": "raw",
   "id": "db230caf",
   "metadata": {},
   "source": [
    "Since the Data is highly imbalanced, I will resample the data to have a more balance set and that should inrease the acuracy of the model."
   ]
  },
  {
   "cell_type": "code",
   "execution_count": 111,
   "id": "2e1ac112",
   "metadata": {},
   "outputs": [],
   "source": [
    "from sklearn.preprocessing import LabelEncoder, OneHotEncoder\n",
    "from sklearn.preprocessing import MinMaxScaler"
   ]
  },
  {
   "cell_type": "code",
   "execution_count": 116,
   "id": "6816c8a0",
   "metadata": {},
   "outputs": [],
   "source": [
    "#cat_features = ['EnglishEducation', 'EnglishOccupation']\n",
    "#X = pd.get_dummies(dFrm, columns=cat_features, drop_first=True)\n",
    "scaler = MinMaxScaler(feature_range=(0,1))\n",
    "scaled_data = scaler.fit_transform(dFrm)"
   ]
  },
  {
   "cell_type": "markdown",
   "id": "8f121dc4",
   "metadata": {},
   "source": [
    "# Resampling"
   ]
  },
  {
   "cell_type": "code",
   "execution_count": 120,
   "id": "52649733",
   "metadata": {},
   "outputs": [
    {
     "name": "stdout",
     "output_type": "stream",
     "text": [
      "Churn Count in Original Data: \n",
      " 0    13232\n",
      "1     5252\n",
      "Name: Churn, dtype: int64 \n",
      "\n",
      "New Churn Count: \n",
      " 0    13232\n",
      "1    13200\n",
      "Name: Churn, dtype: int64\n"
     ]
    }
   ],
   "source": [
    "from sklearn.utils import resample\n",
    "\n",
    "dFrm_majority = dFrm[dFrm.Churn==0]\n",
    "dFrm_minority = dFrm[dFrm.Churn==1]\n",
    "\n",
    "dFrm_minority_upsampled = resample(dFrm_minority,\n",
    "                                replace=True,\n",
    "                                n_samples=13200,\n",
    "                                random_state=123)\n",
    "\n",
    "dFrm_upsampled = pd.concat([dFrm_majority, dFrm_minority_upsampled])\n",
    "\n",
    "print('Churn Count in Original Data: \\n', dFrm.Churn.value_counts(), '\\n')\n",
    "print('New Churn Count: \\n', dFrm_upsampled.Churn.value_counts())"
   ]
  },
  {
   "cell_type": "code",
   "execution_count": 121,
   "id": "9ff0e730",
   "metadata": {},
   "outputs": [
    {
     "data": {
      "text/plain": [
       "0    13232\n",
       "1    13200\n",
       "Name: Churn, dtype: int64"
      ]
     },
     "execution_count": 121,
     "metadata": {},
     "output_type": "execute_result"
    }
   ],
   "source": [
    " dFrm_upsampled.Churn.value_counts()"
   ]
  },
  {
   "cell_type": "code",
   "execution_count": 122,
   "id": "c6d8a99f",
   "metadata": {},
   "outputs": [
    {
     "name": "stderr",
     "output_type": "stream",
     "text": [
      "C:\\Users\\anuma\\anaconda3\\lib\\site-packages\\seaborn\\_decorators.py:36: FutureWarning:\n",
      "\n",
      "Pass the following variable as a keyword arg: x. From version 0.12, the only valid positional argument will be `data`, and passing other arguments without an explicit keyword will result in an error or misinterpretation.\n",
      "\n"
     ]
    },
    {
     "data": {
      "image/png": "[encoded data removed]",
      "text/plain": [
       "<Figure size 1152x432 with 2 Axes>"
      ]
     },
     "metadata": {},
     "output_type": "display_data"
    }
   ],
   "source": [
    "plt.style.use(['seaborn-dark','seaborn-talk'])\n",
    "\n",
    "fig, ax = plt.subplots(1,2,figsize=(16,6))\n",
    "\n",
    "dFrm_upsampled.Churn.value_counts().plot.pie(explode=[0,0.08], ax=ax[0], autopct='%1.2f%%', shadow=True, \n",
    "                                    fontsize=14, startangle=30, colors=[\"#3791D7\", \"#D72626\"])\n",
    "ax[0].set_title('Total Churn Percentage After Resamplng')\n",
    "\n",
    "sns.countplot(dFrm_upsampled.Churn.value_counts(), ax=ax[1], palette=[\"#3791D7\", \"#D72626\"])\n",
    "ax[1].set_title('Churn after resampling')\n",
    "ax[1].set_ylabel(' ')\n",
    "\n",
    "plt.show()"
   ]
  },
  {
   "cell_type": "markdown",
   "id": "4314766d",
   "metadata": {},
   "source": [
    "# ML Model"
   ]
  },
  {
   "cell_type": "code",
   "execution_count": 123,
   "id": "cfafadf2",
   "metadata": {},
   "outputs": [],
   "source": [
    "from sklearn.model_selection import train_test_split"
   ]
  },
  {
   "cell_type": "code",
   "execution_count": 124,
   "id": "655ea051",
   "metadata": {},
   "outputs": [],
   "source": [
    "X = dFrm_upsampled.drop(['Churn'], axis=1) #features (independent variables)\n",
    "y = dFrm_upsampled['Churn'] #target (dependent variable)"
   ]
  },
  {
   "cell_type": "code",
   "execution_count": 125,
   "id": "c80cd657",
   "metadata": {},
   "outputs": [],
   "source": [
    "X_train, X_test, y_train, y_test = train_test_split(X, y, test_size = 0.2, random_state=200)"
   ]
  },
  {
   "cell_type": "raw",
   "id": "eedd94de",
   "metadata": {},
   "source": [
    "I have decided to use ridge classifier as a base model. Then I will try a model that I think will perform better\n",
    "this is just a baseline to use before trying a modeli think would work better"
   ]
  },
  {
   "cell_type": "code",
   "execution_count": 126,
   "id": "0d9b15b0",
   "metadata": {},
   "outputs": [],
   "source": [
    "from sklearn.linear_model import RidgeClassifier\n",
    "from sklearn.metrics import accuracy_score\n",
    "from sklearn.metrics import confusion_matrix"
   ]
  },
  {
   "cell_type": "code",
   "execution_count": 127,
   "id": "3511525e",
   "metadata": {},
   "outputs": [
    {
     "data": {
      "text/html": [
       "<style>#sk-container-id-1 {color: black;background-color: white;}#sk-container-id-1 pre{padding: 0;}#sk-container-id-1 div.sk-toggleable {background-color: white;}#sk-container-id-1 label.sk-toggleable__label {cursor: pointer;display: block;width: 100%;margin-bottom: 0;padding: 0.3em;box-sizing: border-box;text-align: center;}#sk-container-id-1 label.sk-toggleable__label-arrow:before {content: \"▸\";float: left;margin-right: 0.25em;color: #696969;}#sk-container-id-1 label.sk-toggleable__label-arrow:hover:before {color: black;}#sk-container-id-1 div.sk-estimator:hover label.sk-toggleable__label-arrow:before {color: black;}#sk-container-id-1 div.sk-toggleable__content {max-height: 0;max-width: 0;overflow: hidden;text-align: left;background-color: #f0f8ff;}#sk-container-id-1 div.sk-toggleable__content pre {margin: 0.2em;color: black;border-radius: 0.25em;background-color: #f0f8ff;}#sk-container-id-1 input.sk-toggleable__control:checked~div.sk-toggleable__content {max-height: 200px;max-width: 100%;overflow: auto;}#sk-container-id-1 input.sk-toggleable__control:checked~label.sk-toggleable__label-arrow:before {content: \"▾\";}#sk-container-id-1 div.sk-estimator input.sk-toggleable__control:checked~label.sk-toggleable__label {background-color: #d4ebff;}#sk-container-id-1 div.sk-label input.sk-toggleable__control:checked~label.sk-toggleable__label {background-color: #d4ebff;}#sk-container-id-1 input.sk-hidden--visually {border: 0;clip: rect(1px 1px 1px 1px);clip: rect(1px, 1px, 1px, 1px);height: 1px;margin: -1px;overflow: hidden;padding: 0;position: absolute;width: 1px;}#sk-container-id-1 div.sk-estimator {font-family: monospace;background-color: #f0f8ff;border: 1px dotted black;border-radius: 0.25em;box-sizing: border-box;margin-bottom: 0.5em;}#sk-container-id-1 div.sk-estimator:hover {background-color: #d4ebff;}#sk-container-id-1 div.sk-parallel-item::after {content: \"\";width: 100%;border-bottom: 1px solid gray;flex-grow: 1;}#sk-container-id-1 div.sk-label:hover label.sk-toggleable__label {background-color: #d4ebff;}#sk-container-id-1 div.sk-serial::before {content: \"\";position: absolute;border-left: 1px solid gray;box-sizing: border-box;top: 0;bottom: 0;left: 50%;z-index: 0;}#sk-container-id-1 div.sk-serial {display: flex;flex-direction: column;align-items: center;background-color: white;padding-right: 0.2em;padding-left: 0.2em;position: relative;}#sk-container-id-1 div.sk-item {position: relative;z-index: 1;}#sk-container-id-1 div.sk-parallel {display: flex;align-items: stretch;justify-content: center;background-color: white;position: relative;}#sk-container-id-1 div.sk-item::before, #sk-container-id-1 div.sk-parallel-item::before {content: \"\";position: absolute;border-left: 1px solid gray;box-sizing: border-box;top: 0;bottom: 0;left: 50%;z-index: -1;}#sk-container-id-1 div.sk-parallel-item {display: flex;flex-direction: column;z-index: 1;position: relative;background-color: white;}#sk-container-id-1 div.sk-parallel-item:first-child::after {align-self: flex-end;width: 50%;}#sk-container-id-1 div.sk-parallel-item:last-child::after {align-self: flex-start;width: 50%;}#sk-container-id-1 div.sk-parallel-item:only-child::after {width: 0;}#sk-container-id-1 div.sk-dashed-wrapped {border: 1px dashed gray;margin: 0 0.4em 0.5em 0.4em;box-sizing: border-box;padding-bottom: 0.4em;background-color: white;}#sk-container-id-1 div.sk-label label {font-family: monospace;font-weight: bold;display: inline-block;line-height: 1.2em;}#sk-container-id-1 div.sk-label-container {text-align: center;}#sk-container-id-1 div.sk-container {/* jupyter's `normalize.less` sets `[hidden] { display: none; }` but bootstrap.min.css set `[hidden] { display: none !important; }` so we also need the `!important` here to be able to override the default hidden behavior on the sphinx rendered scikit-learn.org. See: https://github.com/scikit-learn/scikit-learn/issues/21755 */display: inline-block !important;position: relative;}#sk-container-id-1 div.sk-text-repr-fallback {display: none;}</style><div id=\"sk-container-id-1\" class=\"sk-top-container\"><div class=\"sk-text-repr-fallback\"><pre>RidgeClassifier()</pre><b>In a Jupyter environment, please rerun this cell to show the HTML representation or trust the notebook. <br />On GitHub, the HTML representation is unable to render, please try loading this page with nbviewer.org.</b></div><div class=\"sk-container\" hidden><div class=\"sk-item\"><div class=\"sk-estimator sk-toggleable\"><input class=\"sk-toggleable__control sk-hidden--visually\" id=\"sk-estimator-id-1\" type=\"checkbox\" checked><label for=\"sk-estimator-id-1\" class=\"sk-toggleable__label sk-toggleable__label-arrow\">RidgeClassifier</label><div class=\"sk-toggleable__content\"><pre>RidgeClassifier()</pre></div></div></div></div></div>"
      ],
      "text/plain": [
       "RidgeClassifier()"
      ]
     },
     "execution_count": 127,
     "metadata": {},
     "output_type": "execute_result"
    }
   ],
   "source": [
    "clf_ridge = RidgeClassifier() #create a ridge classifier object\n",
    "clf_ridge.fit(X_train, y_train) #train the model"
   ]
  },
  {
   "cell_type": "code",
   "execution_count": 128,
   "id": "9f464a3e",
   "metadata": {},
   "outputs": [],
   "source": [
    "pred = clf_ridge.predict(X_train)  #make predictions on training set"
   ]
  },
  {
   "cell_type": "code",
   "execution_count": 129,
   "id": "08c1a473",
   "metadata": {},
   "outputs": [
    {
     "data": {
      "text/plain": [
       "0.5729013951288721"
      ]
     },
     "execution_count": 129,
     "metadata": {},
     "output_type": "execute_result"
    }
   ],
   "source": [
    "accuracy_score(y_train, pred) #accuracy on training set"
   ]
  },
  {
   "cell_type": "code",
   "execution_count": 130,
   "id": "a37f096e",
   "metadata": {},
   "outputs": [
    {
     "data": {
      "text/plain": [
       "array([[5505, 5047],\n",
       "       [3984, 6609]], dtype=int64)"
      ]
     },
     "execution_count": 130,
     "metadata": {},
     "output_type": "execute_result"
    }
   ],
   "source": [
    "confusion_matrix(y_train, pred)"
   ]
  },
  {
   "cell_type": "code",
   "execution_count": 131,
   "id": "f5491c3f",
   "metadata": {},
   "outputs": [
    {
     "data": {
      "text/plain": [
       "0.575373557783242"
      ]
     },
     "execution_count": 131,
     "metadata": {},
     "output_type": "execute_result"
    }
   ],
   "source": [
    "pred_test = clf_ridge.predict(X_test)\n",
    "accuracy_score(y_test, pred_test)"
   ]
  },
  {
   "cell_type": "raw",
   "id": "ba8678f5",
   "metadata": {},
   "source": [
    "As far as models go, this has to be one of the worse result you can expect even for a base line"
   ]
  },
  {
   "cell_type": "markdown",
   "id": "3d7433e6",
   "metadata": {},
   "source": [
    "#Multiple models"
   ]
  },
  {
   "cell_type": "code",
   "execution_count": 155,
   "id": "5c143809",
   "metadata": {},
   "outputs": [],
   "source": [
    "from sklearn.model_selection import train_test_split\n",
    "\n",
    "# Separate input features (X) and target variable (y)\n",
    "y = dFrm_upsampled.Churn\n",
    "X = dFrm_upsampled.drop('Churn', axis=1)\n",
    "\n",
    "X_train, X_test, y_train, y_test = train_test_split(X, y, random_state=123, test_size=0.30)"
   ]
  },
  {
   "cell_type": "code",
   "execution_count": 181,
   "id": "7d5ce07a",
   "metadata": {},
   "outputs": [],
   "source": [
    "from sklearn.metrics import classification_report, precision_score, accuracy_score\n",
    "\n",
    "from sklearn.ensemble import RandomForestClassifier\n",
    "from sklearn.naive_bayes import GaussianNB\n",
    "from sklearn.linear_model import LogisticRegression\n",
    "from sklearn.neighbors import KNeighborsClassifier\n",
    "from sklearn.svm import SVC\n",
    "from sklearn.tree import DecisionTreeClassifier"
   ]
  },
  {
   "cell_type": "code",
   "execution_count": 183,
   "id": "50c32b3e",
   "metadata": {},
   "outputs": [
    {
     "name": "stdout",
     "output_type": "stream",
     "text": [
      "LogisticRegression() \n",
      " \n",
      "               precision    recall  f1-score   support\n",
      "\n",
      "           0       0.59      0.51      0.54      3992\n",
      "           1       0.56      0.64      0.60      3938\n",
      "\n",
      "    accuracy                           0.57      7930\n",
      "   macro avg       0.57      0.57      0.57      7930\n",
      "weighted avg       0.58      0.57      0.57      7930\n",
      " \n",
      " \n",
      "Precision Score:  0.561540173603383 \n",
      "Accuracy Score:  0.573139974779319 \n",
      "\n",
      "----------------------------------------------------------------\n",
      "\n",
      "\n",
      "KNeighborsClassifier() \n",
      " \n",
      "               precision    recall  f1-score   support\n",
      "\n",
      "           0       0.82      0.73      0.77      3992\n",
      "           1       0.75      0.84      0.79      3938\n",
      "\n",
      "    accuracy                           0.78      7930\n",
      "   macro avg       0.79      0.78      0.78      7930\n",
      "weighted avg       0.79      0.78      0.78      7930\n",
      " \n",
      " \n",
      "Precision Score:  0.7517068730086481 \n",
      "Accuracy Score:  0.7823455233291299 \n",
      "\n",
      "----------------------------------------------------------------\n",
      "\n",
      "\n",
      "RandomForestClassifier() \n",
      " \n",
      "               precision    recall  f1-score   support\n",
      "\n",
      "           0       0.91      0.87      0.89      3992\n",
      "           1       0.88      0.91      0.90      3938\n",
      "\n",
      "    accuracy                           0.89      7930\n",
      "   macro avg       0.89      0.89      0.89      7930\n",
      "weighted avg       0.89      0.89      0.89      7930\n",
      " \n",
      " \n",
      "Precision Score:  0.8772528007793473 \n",
      "Accuracy Score:  0.8940731399747793 \n",
      "\n",
      "----------------------------------------------------------------\n",
      "\n",
      "\n",
      "DecisionTreeClassifier() \n",
      " \n",
      "               precision    recall  f1-score   support\n",
      "\n",
      "           0       0.92      0.82      0.87      3992\n",
      "           1       0.83      0.93      0.88      3938\n",
      "\n",
      "    accuracy                           0.87      7930\n",
      "   macro avg       0.88      0.87      0.87      7930\n",
      "weighted avg       0.88      0.87      0.87      7930\n",
      " \n",
      " \n",
      "Precision Score:  0.8339391185824625 \n",
      "Accuracy Score:  0.8741488020176544 \n",
      "\n",
      "----------------------------------------------------------------\n",
      "\n",
      "\n"
     ]
    }
   ],
   "source": [
    "classifier_list = [ LogisticRegression(),\n",
    "                    KNeighborsClassifier(),\n",
    "                    #GaussianNB(priors=None),\n",
    "                    RandomForestClassifier(),\n",
    "                     DecisionTreeClassifier() ]\n",
    "\n",
    "for clf in classifier_list:\n",
    "    clf.fit(X_train, y_train)\n",
    "    predictions = clf.predict(X_test)\n",
    "    precision = precision_score(y_test, predictions) \n",
    "    accuracy = accuracy_score(y_test, predictions)\n",
    "    \n",
    "    \n",
    "# Precision_score = tp / (tp + fp)\n",
    "# Accuracy_score = (# of correctly assigned rows) / (All rows)\n",
    "\n",
    "    print(clf, '\\n \\n',classification_report(y_test, predictions), \n",
    "          '\\n \\nPrecision Score: ' , precision,\n",
    "          '\\nAccuracy Score: ', accuracy,\n",
    "          '\\n\\n----------------------------------------------------------------\\n\\n')"
   ]
  },
  {
   "cell_type": "raw",
   "id": "b32a91a6",
   "metadata": {},
   "source": [
    "This model can be improved by different methods.\n",
    "1. Forward elimimination or backward substitution of features\n",
    "2. Feature selection using dimentionality reduction (PCA)\n",
    "3. Gridsearch and hyperparameter tuning to mention a few.\n",
    "\n",
    "I hope you have enjoyed going through this as much as I enjoyed analysing the data here. Happy to take on any suggestions\n",
    "and questions you may have.\n",
    "\n",
    "Be Kind and tender hearted towards everyone.\n",
    "Remain blessed"
   ]
  },
  {
   "cell_type": "code",
   "execution_count": null,
   "id": "bb7c18a3",
   "metadata": {},
   "outputs": [],
   "source": []
  },
  {
   "cell_type": "code",
   "execution_count": null,
   "id": "879faf8d",
   "metadata": {},
   "outputs": [],
   "source": []
  },
  {
   "cell_type": "code",
   "execution_count": null,
   "id": "10abe92e",
   "metadata": {},
   "outputs": [],
   "source": []
  },
  {
   "cell_type": "code",
   "execution_count": null,
   "id": "3e5a8759",
   "metadata": {},
   "outputs": [],
   "source": []
  },
  {
   "cell_type": "code",
   "execution_count": null,
   "id": "737ef715",
   "metadata": {},
   "outputs": [],
   "source": []
  },
  {
   "cell_type": "code",
   "execution_count": null,
   "id": "47eccde9",
   "metadata": {},
   "outputs": [],
   "source": []
  },
  {
   "cell_type": "code",
   "execution_count": null,
   "id": "04eaf386",
   "metadata": {},
   "outputs": [],
   "source": []
  },
  {
   "cell_type": "code",
   "execution_count": null,
   "id": "f2a0a662",
   "metadata": {},
   "outputs": [],
   "source": []
  },
  {
   "cell_type": "code",
   "execution_count": null,
   "id": "807085a1",
   "metadata": {},
   "outputs": [],
   "source": []
  }
 ],
 "metadata": {
  "kernelspec": {
   "display_name": "Python 3",
   "language": "python",
   "name": "python3"
  },
  "language_info": {
   "codemirror_mode": {
    "name": "ipython",
    "version": 3
   },
   "file_extension": ".py",
   "mimetype": "text/x-python",
   "name": "python",
   "nbconvert_exporter": "python",
   "pygments_lexer": "ipython3",
   "version": "3.8.8"
  }
 },
 "nbformat": 4,
 "nbformat_minor": 5
}
